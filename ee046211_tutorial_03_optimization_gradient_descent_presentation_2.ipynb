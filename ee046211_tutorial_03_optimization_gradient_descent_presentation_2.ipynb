{
 "cells": [
  {
   "cell_type": "markdown",
   "metadata": {
    "slideshow": {
     "slide_type": "slide"
    }
   },
   "source": [
    "# <img src=\"./assets/course-icon.png\" style=\"height:50px;display:inline\"> ECE 046211 - Technion - Deep Learning\n",
    "---\n",
    "\n",
    "#### <a href=\"https://taldatech.guthub.io\"> Tal Daniel</a>\n",
    "\n",
    "## Tutorial 03 - Optimization & Gradient Descent Algorithms\n",
    "---"
   ]
  },
  {
   "cell_type": "markdown",
   "metadata": {},
   "source": [
    "### <img src=\"https://img.icons8.com/bubbles/50/000000/checklist.png\" style=\"height:50px;display:inline\"> Agenda\n",
    "---\n",
    "\n",
    "<div style=\"width:100%;height:800px;line-height:3em;overflow:scroll;padding:5px;\">\n",
    "\n",
    "* [Unimodal vs. Multimodal Optimization](#-Unimodal-vs.-Multimodal-Optimization)\n",
    "* [Convexity](#-Convexity)\n",
    "* [Optimality Conditions](#-Optimality-Conditions)\n",
    "* [(Batch) Gradient Descent](#(Batch)-Gradient-Descent)\n",
    "* [Stochastic Gradient Descent (Mini Batch Gradient Descent)](#Stochastic-Gradient-Descent-(Mini-Batch-Gradient-Descent))\n",
    "* [GD Comparison Summary](#GD-Comparison-Summary)\n",
    "* [The Learning Rate](#-The-Learning-Rate)\n",
    "* [Example - (Multivariate) Linear Least Squares](#-Example---(Multivariate)-Linear-Least-Squares)\n",
    "* [Learning Rate Scheduling (Annealing)](#-Learning-Rate-Scheduling-(Annealing))\n",
    "    * [Learning Rate Scheduling in PyTorch](#-Learning-Rate-Scheduling-in-PyTorch)\n",
    "* [Momentum & Nesterov Momentum](#-Momentum-&-Nesterov-Momentum)\n",
    "    * [Momentum in PyTorch](#-Momentum-in-PyTorch)\n",
    "* [Adaptive Learning Rate Methods](#-Adaptive-Learning-Rate-Methods)\n",
    "    * [Adagrad](#-Adagrad)\n",
    "        * [Adagrad in PyTorch](#-Adagrad-in-PyTorch)\n",
    "    * [RMSprop](#-RMSprop)\n",
    "        * [RMSprop in PyTorch](#-RMSprop-in-PyTorch)\n",
    "    * [Adam - Adaptive Moment Estimation](#-Adam---Adaptive-Moment-Estimation)\n",
    "        * [Adam in PyTorch](#-Adam-in-PyTorch)\n",
    "* [Comparison Between Methods](#-Comparison-Between-Methods)\n",
    "* [Recent Advances in Optimizers](#-Recent-Advances-in-Optimizers)\n",
    "    * [AdaBelief](#-AdaBelief)\n",
    "    * [MADGRAD](#-MADGRAD)\n",
    "    * [Adan](#-Adan)\n",
    "    * [Schedule-free Optimization](#-Schedule-Free-Optimization)\n",
    "\n",
    "* [Recommended Videos](#-Recommended-Videos)\n",
    "* [Credits](#-Credits)</div>"
   ]
  },
  {
   "cell_type": "markdown",
   "metadata": {
    "slideshow": {
     "slide_type": "subslide"
    }
   },
   "source": [
    "<!-- ### <img src=\"https://img.icons8.com/bubbles/50/000000/checklist.png\" style=\"height:50px;display:inline\"> Agenda\n",
    "---\n",
    "\n",
    "* [Unimodal vs. Multimodal Optimization](#-Unimodal-vs.-Multimodal-Optimization)\n",
    "* [Convexity](#-Convexity)\n",
    "* [Optimality Conditions](#-Optimality-Conditions)\n",
    "* [(Batch) Gradient Descent](#(Batch)-Gradient-Descent)\n",
    "* [Stochastic Gradient Descent (Mini Batch Gradient Descent)](#Stochastic-Gradient-Descent-(Mini-Batch-Gradient-Descent))\n",
    "* [GD Comparison Summary](#GD-Comparison-Summary)\n",
    "* [The Learning Rate](#-The-Learning-Rate)\n",
    "* [Example - (Multivariate) Linear Least Squares](#-Example---(Multivariate)-Linear-Least-Squares)\n",
    "* [Learning Rate Scheduling (Annealing)](#-Learning-Rate-Scheduling-(Annealing))\n",
    "    * [Learning Rate Scheduling in PyTorch](#-Learning-Rate-Scheduling-in-PyTorch)\n",
    "* [Momentum & Nesterov Momentum](#-Momentum-&-Nesterov-Momentum)\n",
    "    * [Momentum in PyTorch](#-Momentum-in-PyTorch)\n",
    "* [Adaptive Learning Rate Methods](#-Adaptive-Learning-Rate-Methods)\n",
    "    * [Adagrad](#-Adagrad)\n",
    "        * [Adagrad in PyTorch](#-Adagrad-in-PyTorch)\n",
    "    * [RMSprop](#-RMSprop)\n",
    "        * [RMSprop in PyTorch](#-RMSprop-in-PyTorch)\n",
    "    * [Adam - Adaptive Moment Estimation](#-Adam---Adaptive-Moment-Estimation)\n",
    "        * [Adam in PyTorch](#-Adam-in-PyTorch)\n",
    "* [Comparison Between Methods](#-Comparison-Between-Methods)\n",
    "* [Recent Advances in Optimizers](#-Recent-Advances-in-Optimizers)\n",
    "    * [AdaBelief](#-AdaBelief)\n",
    "    * [MADGRAD](#-MADGRAD)\n",
    "    * [Adan](#-Adan)\n",
    "    * [Schedule-free Optimization](#-Schedule-Free-Optimization)\n",
    "\n",
    "* [Recommended Videos](#-Recommended-Videos)\n",
    "* [Credits](#-Credits) -->"
   ]
  },
  {
   "cell_type": "markdown",
   "metadata": {
    "slideshow": {
     "slide_type": "subslide"
    }
   },
   "source": []
  },
  {
   "cell_type": "code",
   "execution_count": 1,
   "metadata": {
    "slideshow": {
     "slide_type": "skip"
    }
   },
   "outputs": [],
   "source": [
    "# imports for the tutorial\n",
    "import numpy as np\n",
    "import pandas as pd\n",
    "import matplotlib.pyplot as plt\n",
    "from mpl_toolkits.mplot3d import Axes3D\n",
    "from sklearn.model_selection import train_test_split\n",
    "# %matplotlib ipympl\n",
    "%matplotlib inline\n",
    "\n",
    "# pytorch imports\n",
    "import torch\n",
    "import torch.nn as nn\n",
    "import torchvision.transforms as transforms\n",
    "import torchvision.datasets as dsets"
   ]
  },
  {
   "cell_type": "markdown",
   "metadata": {
    "slideshow": {
     "slide_type": "subslide"
    },
    "tags": []
   },
   "source": [
    "## Unimodal vs. Multimodal Optimization\n",
    "---\n",
    "* **Unimodal** - only **one** optimum, that is, the *local* optimum is also global.\n",
    "<center><img src=\"./assets/unimodal.jpg\" style=\"height:190px\"></center>\n",
    "\n",
    "* **Multimodal** - more than one optimum.\n",
    "<center><img src=\"./assets/multimodal.jpg\" style=\"height:200px\"></center>\n",
    "\n",
    "Most search schemes are based on the assumption of **unimodal** surface. The optimum determined in such cases is called **local optimum design**.\n",
    "\n",
    "The **global optimum** is the best of all *local optimum* designs."
   ]
  },
  {
   "cell_type": "markdown",
   "metadata": {
    "slideshow": {
     "slide_type": "slide"
    }
   },
   "source": [
    "### Convexity\n",
    "---\n",
    "<div style=\"width:100%;height:800px;line-height:3em;overflow:scroll;padding:5px;\">\n",
    "    \n",
    "* **Definition**: $ f: X \\rightarrow \\mathbb{R}$ is a convex function if\n",
    "$$\\forall x_1, x_2 \\in X, \\forall t \\in [0,1]: $$ $$ f(tx_1 + (1-t)x_2) \\leq tf(x_1) + (1-t)f(x_2) $$\n",
    "  \n",
    "<center><img src=\"./assets/convex_1.jpg\" style=\"height:200px\"></center>\n",
    "\n",
    "* Convex Set: \n",
    "$$\\forall x_1, x_2 \\in X, \\forall t \\in [0,1]: $$ $$ tx_1 + (1-t)x_2 \\in X $$\n",
    "\n",
    "<center><img src=\"./assets/convex_concave.gif\" style=\"height:200px\"></center>\n",
    "\n",
    "<!-- <a href=\"http://mathworld.wolfram.com/Convex.html\">Image Source</a> -->\n",
    "* Convex functions are **unimodal**.\n",
    "* Unimodal functions are not always convex, but they are usually still easy to optimize.\n",
    "      \n",
    "<center><img src=\"./assets/convex_2.jpg\" style=\"height:200px\"></center>\n",
    "</div>"
   ]
  },
  {
   "cell_type": "markdown",
   "metadata": {
    "slideshow": {
     "slide_type": "subslide"
    }
   },
   "source": []
  },
  {
   "cell_type": "markdown",
   "metadata": {
    "slideshow": {
     "slide_type": "subslide"
    }
   },
   "source": []
  },
  {
   "cell_type": "markdown",
   "metadata": {
    "slideshow": {
     "slide_type": "slide"
    }
   },
   "source": [
    "## Optimality Conditions\n",
    "---\n",
    "<div style=\"width:100%;height:800px;line-height:3em;overflow:scroll;padding:5px;\">\n",
    "\n",
    "* If $f: \\mathbb{R}^d \\to \\mathbb{R}$ has *local* optimum at $x_0$ then $\\nabla f(x_0) = 0$. \n",
    "<!--     * $\\nabla f(x_0)$ is also called **the gradient** at $x_0$. -->\n",
    "* **The Hessian Matrix** : $H(f)(x)_{i,j} = \\frac{\\partial^2}{\\partial x_i \\partial x_j} f(x) \\in \\mathbb{R}^{d \\times d}$\n",
    "$$ H = \\begin{bmatrix} \\frac{\\partial^2 f}{\\partial x_1^2} & \\frac{\\partial^2 f}{\\partial x_1 \\partial x_2} & \\cdots & \\frac{\\partial^2 f}{\\partial x_1 \\partial x_d}  \\\\ \\frac{\\partial^2 f}{\\partial x_2 x_1} & \\frac{\\partial^2 f}{\\partial x_2^2} & \\cdots & \\frac{\\partial^2 f}{\\partial x_2 \\partial x_d}  \\\\ \\vdots  & \\vdots  & \\ddots & \\vdots  \\\\ \\frac{\\partial^2 f}{\\partial x_d x_1} & \\frac{\\partial^2 f}{\\partial x_d \\partial x_2} & \\cdots & \\frac{\\partial^2 f}{\\partial x_d^2}  \\end{bmatrix} $$\n",
    "\n",
    "* If the **Hessian** matrix is:\n",
    "    * **Positive Definite** (all eigenvalues *positive*) at $x_0 \\rightarrow$ *local minimum*.\n",
    "    * **Negative Definite** (all eigenvalues *negative*) at $x_0 \\rightarrow$ *local maximum*.\n",
    "    * Both **positive and negative** eigenvalues at $x_0 \\rightarrow$ *saddle* point.\n",
    "      <center><img src=\"./assets/saddle.jpg\" style=\"height:100px\"></center>\n",
    "* Note: the Hessian matrix is symmetric if the second partial derivatives are continuous, but this is not always true (<a href=\"https://en.wikipedia.org/wiki/Symmetry_of_second_derivatives\">Schwarz's theorem</a>).\n",
    "\n",
    "* **1D Case**:  \n",
    "    If $f: \\mathbb{R} \\to \\mathbb{R}$ and $f''(x_0)$ exists:\n",
    "    * If $f''(x_0) > 0$, then $x_0$ is a *local minimum*.\n",
    "    * If $f''(x_0) < 0$, then $x_0$ is a *local maximum*.\n",
    "\n",
    "</div>"
   ]
  },
  {
   "cell_type": "markdown",
   "metadata": {
    "slideshow": {
     "slide_type": "subslide"
    }
   },
   "source": []
  },
  {
   "cell_type": "markdown",
   "metadata": {},
   "source": []
  },
  {
   "cell_type": "markdown",
   "metadata": {
    "slideshow": {
     "slide_type": "slide"
    }
   },
   "source": [
    "## <img src=\"https://img.icons8.com/dusk/64/000000/treasure-map.png\" style=\"height:50px;display:inline\">(Batch) Gradient Descent\n",
    "---\n",
    "<div style=\"width:100%;height:800px;line-height:3em;overflow:scroll;padding:5px;\">\n",
    "\n",
    "* Generic optimization algorithm capable of finding optimal solutions to a wide range of problems.\n",
    "* The general idea is to tweak parameters **iteratively** to minimize a cost function.\n",
    "* It measures the local gradient of the error function with regards to the parameter vector ($\\theta$ or $w$), and it goes down in the direction of the descending gradient.\n",
    "* **Once the gradient is zero - the minimum is reached (=convergence)**.\n",
    "\n",
    "* **Pseudocode**:\n",
    "    * **Require**: Learning rate $\\alpha_k$\n",
    "    * **Require**: Initial parameter vector $w$\n",
    "    * **While** stopping criterion not met **do**\n",
    "        * Compute gradient: $g \\leftarrow \\nabla_w f(x,w)$ \n",
    "        * Apply update: $w \\leftarrow w - \\alpha_k g$\n",
    "        * $k \\leftarrow k + 1$\n",
    "    * **end while**\n",
    "\n",
    "<center><img src=\"./assets/minimum.jpg\" style=\"height:400px\"></center>\n",
    "\n",
    "**Convergence Gurantee**:\n",
    "When \n",
    "1. The cost function is <ins>convex</ins> and \n",
    "2. Its slope <ins>does not change abruptly</ins>\n",
    "\n",
    "(Batch) GD with a (small enough) *fixed* learning rate will eventually converge to the optimal solution (but the time is depndent on the rate).\n",
    "\n",
    "<center><img src=\"./assets/gd_animation.gif\" style=\"height:400px\"></center>\n",
    "\n",
    "<a href=\"https://commons.wikimedia.org/wiki/File:Gradient_descent.gif\">Image Source</a>\n",
    "</div>"
   ]
  },
  {
   "cell_type": "markdown",
   "metadata": {
    "slideshow": {
     "slide_type": "subslide"
    }
   },
   "source": []
  },
  {
   "cell_type": "markdown",
   "metadata": {
    "slideshow": {
     "slide_type": "subslide"
    }
   },
   "source": []
  },
  {
   "cell_type": "markdown",
   "metadata": {},
   "source": []
  },
  {
   "cell_type": "markdown",
   "metadata": {
    "slideshow": {
     "slide_type": "slide"
    },
    "tags": []
   },
   "source": [
    "<!-- ### <img src=\"https://img.icons8.com/dusk/64/000000/waypoint-map.png\" style=\"height:50px;display:inline\">Stochastic Gradient Descent (Mini-Batch Gradient Descent)\n",
    "---\n",
    "* The main problem with (Batch) GD is that it uses the **whole** training set to compute the gradients. But what if that training set is huge or each sample has a very large number of features? Computing the gradient can take a very long time.\n",
    "* *Stochastic* Gradient Descent on the other hand, samples just one instance randomly at every step and computes the gradients based on that single instance (remember the Perceptron algorithm?). This makes the algorithm much faster but due to its randomness, it is much less stable. Instead of steady decreasing untill reaching the minimum, the cost function will bounce up and down, **decreasing only on average**. With time, it will get *very close* to the minimum, but once it is there it will continue to bounce around!\n",
    "    * When we have outliers, SGD may take us to undesirable areas.\n",
    "* The final parameters are good but **not optimal**. -->"
   ]
  },
  {
   "cell_type": "markdown",
   "metadata": {
    "slideshow": {
     "slide_type": "subslide"
    }
   },
   "source": [
    "<!-- * When the cost function is very irregular, this bouncing can actually **help the algorithm escape local minima**, so SGD has better chance to find the *global* minimum.\n",
    "* How to find optimal parameters using SGD?\n",
    "    * **Reduce the learning rate gradually**: this is called *learning rate scheduling*.\n",
    "        * But don't reduce too quickly or you will get stuck at a local minimum or even frozen!\n",
    "* *Mini-Batch* Gradient Descent - same idea as SGD, but instead of one instance each step, $m$ samples.\n",
    "    * Get a little bit closer to the minimum than SGD but a little harder to escape local minima. -->"
   ]
  },
  {
   "cell_type": "markdown",
   "metadata": {
    "tags": []
   },
   "source": [
    "### <img src=\"https://img.icons8.com/dusk/64/000000/waypoint-map.png\" style=\"height:50px;display:inline\">Stochastic Gradient Descent (Mini-Batch Gradient Descent)\n",
    "---\n",
    "<div style=\"width:100%;height:800px;line-height:3em;overflow:scroll;padding:5px;\">\n",
    "\n",
    "- **Batch Gradient Descent (GD)**: Computes gradients using the <ins>entire dataset</ins> - very expensive!\n",
    "- **Stochastic Gradient Descent (SGD)**:  \n",
    "  - Uses a single random sample per step, making it faster but less stable.  \n",
    "  - Cost function *fluctuates* but <ins>decreases on average</ins>.\n",
    "      - **+**  Helpful in escaping local minima.  \n",
    "      - **-**  Seneitive to outliers.  \n",
    "  - Solution: *Learning rate scheduling* - gradually reducing the learning rate over time.  \n",
    "- **Mini-Batch Gradient Descent**:  \n",
    "  - Uses a small batch of *m* samples per step.  \n",
    "  - Balances efficiency (like SGD) with reduced fluctuations, improving convergence stability.\n",
    "* **Pseudocode**:\n",
    "    * **Require**: Learning rate $\\alpha_k$\n",
    "    * **Require**: Initial parameter $w$\n",
    "    * **While** stopping criterion not met **do**\n",
    "        * Sample a minibatch of $m$ examples from the training set ($m=1$ for SGD)\n",
    "        * Set $\\{x_1,...,x_m,\\}$ with corresponding targets $\\{y_1,...,y_m\\}$\n",
    "        * Compute gradient: $g \\leftarrow \\frac{1}{m} \\sum_{i=1}^m f'(x_i,w, y_i)$\n",
    "        * Apply update: $w \\leftarrow w - \\alpha_k g$\n",
    "        * $k \\leftarrow k + 1$\n",
    "    * **end while**\n",
    "<center><img src=\"./assets/sgd.png\" style=\"height:400px\"></center>\n",
    "\n",
    "<a href=\"https://towardsdatascience.com/gradient-descent-algorithm-and-its-variants-10f652806a3\">Image Source</a>\n",
    "</div>"
   ]
  },
  {
   "cell_type": "markdown",
   "metadata": {
    "tags": []
   },
   "source": [
    "<!-- ### <img src=\"https://img.icons8.com/dusk/64/000000/waypoint-map.png\" style=\"height:50px;display:inline\">Stochastic Gradient Descent (Mini-Batch Gradient Descent)\n",
    "---\n",
    "- **Batch Gradient Descent (GD)**: Computes gradients using the <ins>entire dataset</ins> - very expensive!\n",
    "- **Stochastic Gradient Descent (SGD)**:  \n",
    "  - Uses a single random sample per step, making it faster but less stable.  \n",
    "  - Cost function *fluctuates* but <ins>decreases on average</ins>.\n",
    "      - **+**  Helpful in escaping local minima.  \n",
    "      - **-**  Seneitive to outliers.  \n",
    "  - Solution: *Learning rate scheduling* - gradually reducing the learning rate over time.  \n",
    "- **Mini-Batch Gradient Descent**:  \n",
    "  - Uses a small batch of *m* samples per step.  \n",
    "  - Balances efficiency (like SGD) with reduced fluctuations, improving convergence stability.   -->"
   ]
  },
  {
   "cell_type": "markdown",
   "metadata": {
    "slideshow": {
     "slide_type": "subslide"
    }
   },
   "source": [
    "<!-- * **Pseudocode**:\n",
    "    * **Require**: Learning rate $\\alpha_k$\n",
    "    * **Require**: Initial parameter $w$\n",
    "    * **While** stopping criterion not met **do**\n",
    "        * Sample a minibatch of $m$ examples from the training set ($m=1$ for SGD)\n",
    "        * Set $\\{x_1,...,x_m,\\}$ with corresponding targets $\\{y_1,...,y_m\\}$\n",
    "        * Compute gradient: $g \\leftarrow \\frac{1}{m} \\sum_{i=1}^m f'(x_i,w, y_i)$\n",
    "        * Apply update: $w \\leftarrow w - \\alpha_k g$\n",
    "        * $k \\leftarrow k + 1$\n",
    "    * **end while** -->"
   ]
  },
  {
   "cell_type": "markdown",
   "metadata": {
    "slideshow": {
     "slide_type": "subslide"
    }
   },
   "source": [
    "<!-- <center><img src=\"./assets/sgd.png\" style=\"height:250px\"></center>\n",
    "\n",
    "<a href=\"https://towardsdatascience.com/gradient-descent-algorithm-and-its-variants-10f652806a3\">Image Source</a> -->"
   ]
  },
  {
   "cell_type": "markdown",
   "metadata": {
    "tags": []
   },
   "source": [
    "#### Update Speed\n",
    "---\n",
    "- Example: \n",
    "    - Number of samples: $M=100$.\n",
    "    - Training epochs:  $N=10$ (iterating over all of the samples 10 times).\n",
    "    - Denote `batch_size` with $m$.\n",
    "\n",
    "- Note: `batch_size` and `num_epochs` are **hyper-parameters** (chosen by the user prior to training)\n",
    "\n",
    "<details>\n",
    "  <summary>How many gradient updates in each algorithm?</summary>\n",
    "\n",
    "| Method|# Gradients Updates (=iterations) |\n",
    "|-------|----------------------------------|\n",
    "| **Batch** Gradient Descent, $m=100$| $\\frac{M}{m} \\cdot N = 1 * 10 = 10 $ |\n",
    "| **Stochastic** Gradient Descent, $m=1$ |  $\\frac{M}{m} \\cdot N =100 * 10 = 1000$ |\n",
    "| **Mini-Batch** Gradient Descent, $m=10$ | $\\frac{M}{m} \\cdot N =10 * 10 = 100$ |\n",
    "</details>\n",
    "\n",
    "<details>\n",
    "  <summary>How this affects learning rate?</summary>\n",
    "\n",
    "* The update speed affects how we tune the **learning rate**, which is also a hyper-parameter.\n",
    "* Usually, `learning_rate` $\\propto$ `batch_size` (larger batches enable using higher learning rates).\n",
    "</details>\n"
   ]
  },
  {
   "cell_type": "markdown",
   "metadata": {
    "slideshow": {
     "slide_type": "slide"
    }
   },
   "source": [
    "#### GD Comparison Summary\n",
    "---\n",
    "\n",
    "| Method|Accuracy | Update Speed | Memory Usage |Online Learning |\n",
    "|---|---|---|---|---|\n",
    "| **Batch** Gradient Descent | Good | Slow |  High | No |\n",
    "| **Stochastic** Gradient Descent |  Good (with softening) | Fast |  Low |  Yes |\n",
    "| **Mini-Batch** Gradient Descent | Good | Medium | Medium | Yes (depends on the MB size) |\n",
    "\n",
    "\n",
    "* **\"Online\"** - samples arrive while the algorithm runs (that is, when the algorithm starts running, not all samples exist)\n",
    "* Note: all the Gradient Descent algorithms require **scaling** if the features are not within the same range!"
   ]
  },
  {
   "cell_type": "markdown",
   "metadata": {},
   "source": [
    "<!-- #### Update Speed\n",
    "---\n",
    "* Assume: number of samples $M=100$ and we wish to train for $N=10$ epochs (iterating over all of the samples 10 times).\n",
    "* Denote `batch_size` with $m$.\n",
    "* `batch_size` and `num_epochs` are **hyper-parameters**: parameters that are chosen by the user prior to the training stage, they are not learned.\n",
    "\n",
    "| Method|# Gradients Updates (=iterations) |\n",
    "|-------|----------------------------------|\n",
    "| **Batch** Gradient Descent, $m=100$| $\\frac{M}{m} \\cdot N = 1 * 10$ |\n",
    "| **Stochastic** Gradient Descent, $m=1$ |  $\\frac{M}{m} \\cdot N =100 * 10 = 1000$ |\n",
    "| **Mini-Batch** Gradient Descent, $m=10$ | $\\frac{M}{m} \\cdot N =10 * 10 = 100$ |\n",
    "\n",
    "* The update speed affects how we tune the **learning rate**, which is also a hyper-parameter (usually, larger batches enable using higher learning rates). -->"
   ]
  },
  {
   "cell_type": "markdown",
   "metadata": {
    "slideshow": {
     "slide_type": "subslide"
    }
   },
   "source": [
    "#### Challenges\n",
    "---\n",
    "* Choosing a **learning rate**.\n",
    "    * Defining **learning schedule**.\n",
    "* Working with features of different scales (e.g. heights (cm), weights (kg) and age (scalar)).\n",
    "* Avoiding **local minima** (or *suboptimal* minima)."
   ]
  },
  {
   "cell_type": "markdown",
   "metadata": {
    "slideshow": {
     "slide_type": "subslide"
    }
   },
   "source": [
    "###  <img src=\"https://img.icons8.com/fluent/96/000000/sample-rate.png\" style=\"height:50px;display:inline\"> The Learning Rate\n",
    "---\n",
    "* **Learning Rate**: the size of step taken in each iteration.\n",
    "    * Too *small* $\\rightarrow$ the algorithm will have to go through many iterations to converge, which will take a long time.\n",
    "    * Too *high* $\\rightarrow$ might make the algorithm diverge as it may miss the minimum.\n",
    "<center><img src=\"./assets/lr.png\" style=\"height:250px\"></center>\n",
    "\n",
    "<a href=\"https://www.jeremyjordan.me/nn-learning-rate/\">Image Source</a>"
   ]
  },
  {
   "cell_type": "markdown",
   "metadata": {},
   "source": [
    "<center><img src=\"./assets/gd_converge_diverge.gif\" style=\"height:300px\"></center>\n",
    "\n",
    "<a href=\"https://towardsai.net/p/machine-learning/analysis-of-learning-rate-in-gradient-descent-algorithm-using-python\">Image Source</a>"
   ]
  },
  {
   "cell_type": "markdown",
   "metadata": {
    "slideshow": {
     "slide_type": "subslide"
    }
   },
   "source": [
    "### <img src=\"https://img.icons8.com/dusk/64/000000/classroom.png\" style=\"height:50px;display:inline\"> Example - (Multivariate) Linear Least Squares\n",
    "---\n",
    "* **Problem Formulation**\n",
    "    * $y \\in \\mathbb{R}^N$ - Vector of values.\n",
    "    * $X \\in \\mathbb{R}^{N \\times L}$ - Data matrix with $N$ examples and *$L$ features*.\n",
    "    * $w \\in \\mathbb{R}^L$ - The *parameters* to be learned, a **weight for each feature**.\n",
    "* **Goal**: find $w$ that best fits the measurement y, that is, find a *weighted linear combination* of the feature vector to best fit the measurment $y$.\n",
    "* Mathematiacally, the problem is:\n",
    "$$\\min_w f(w;x,y) = \\min_w \\sum_{i=1}^N||x_i w-y_i||^2 $$\n",
    "* In vector form:\n",
    "$$\\min_w f(w;x,y) = \\min_w ||Xw - Y||^2 $$"
   ]
  },
  {
   "cell_type": "markdown",
   "metadata": {
    "slideshow": {
     "slide_type": "subslide"
    }
   },
   "source": [
    "#### <img src=\"https://img.icons8.com/dusk/64/000000/idea.png\" style=\"height:30px;display:inline\">   (Multivariate) LLS - Analytical Solution\n",
    "---\n",
    "* Mathematically:\n",
    "$$\\min_w f(w;x,y) = \\min_w ||Xw - Y||^2 = \\min_w (Xw-Y)^T(Xw-Y)= \\min_w (w^TX^TXw -2w^TX^TY + Y^TY)$$\n",
    "* The derivative: \n",
    "$$\\nabla_w f(w;x,y) = (X^TX + X^TX)w -2X^TY = 0$$\n",
    "$$ \\rightarrow w=(X^TX)^{-1}X^TY $$ $$X^TX \\in \\mathbb{R}^{L \\times L} $$\n",
    "\n",
    "* Notice how the gradient is dependent on the features, which is why scaling them is important when applying gradient descent (however, scaling is not necessary if we use the closed-form solution, the least-squares solution)."
   ]
  },
  {
   "cell_type": "code",
   "execution_count": 2,
   "metadata": {
    "slideshow": {
     "slide_type": "subslide"
    }
   },
   "outputs": [
    {
     "data": {
      "text/html": [
       "<div>\n",
       "<style scoped>\n",
       "    .dataframe tbody tr th:only-of-type {\n",
       "        vertical-align: middle;\n",
       "    }\n",
       "\n",
       "    .dataframe tbody tr th {\n",
       "        vertical-align: top;\n",
       "    }\n",
       "\n",
       "    .dataframe thead th {\n",
       "        text-align: right;\n",
       "    }\n",
       "</style>\n",
       "<table border=\"1\" class=\"dataframe\">\n",
       "  <thead>\n",
       "    <tr style=\"text-align: right;\">\n",
       "      <th></th>\n",
       "      <th>id</th>\n",
       "      <th>diagnosis</th>\n",
       "      <th>radius_mean</th>\n",
       "      <th>texture_mean</th>\n",
       "      <th>perimeter_mean</th>\n",
       "      <th>area_mean</th>\n",
       "      <th>smoothness_mean</th>\n",
       "      <th>compactness_mean</th>\n",
       "      <th>concavity_mean</th>\n",
       "      <th>concave points_mean</th>\n",
       "      <th>...</th>\n",
       "      <th>texture_worst</th>\n",
       "      <th>perimeter_worst</th>\n",
       "      <th>area_worst</th>\n",
       "      <th>smoothness_worst</th>\n",
       "      <th>compactness_worst</th>\n",
       "      <th>concavity_worst</th>\n",
       "      <th>concave points_worst</th>\n",
       "      <th>symmetry_worst</th>\n",
       "      <th>fractal_dimension_worst</th>\n",
       "      <th>Unnamed: 32</th>\n",
       "    </tr>\n",
       "  </thead>\n",
       "  <tbody>\n",
       "    <tr>\n",
       "      <th>469</th>\n",
       "      <td>911366</td>\n",
       "      <td>B</td>\n",
       "      <td>11.620</td>\n",
       "      <td>18.18</td>\n",
       "      <td>76.38</td>\n",
       "      <td>408.8</td>\n",
       "      <td>0.11750</td>\n",
       "      <td>0.14830</td>\n",
       "      <td>0.102000</td>\n",
       "      <td>0.055640</td>\n",
       "      <td>...</td>\n",
       "      <td>25.40</td>\n",
       "      <td>88.14</td>\n",
       "      <td>528.1</td>\n",
       "      <td>0.1780</td>\n",
       "      <td>0.28780</td>\n",
       "      <td>0.31860</td>\n",
       "      <td>0.14160</td>\n",
       "      <td>0.2660</td>\n",
       "      <td>0.09270</td>\n",
       "      <td>NaN</td>\n",
       "    </tr>\n",
       "    <tr>\n",
       "      <th>139</th>\n",
       "      <td>868871</td>\n",
       "      <td>B</td>\n",
       "      <td>11.280</td>\n",
       "      <td>13.39</td>\n",
       "      <td>73.00</td>\n",
       "      <td>384.8</td>\n",
       "      <td>0.11640</td>\n",
       "      <td>0.11360</td>\n",
       "      <td>0.046350</td>\n",
       "      <td>0.047960</td>\n",
       "      <td>...</td>\n",
       "      <td>15.77</td>\n",
       "      <td>76.53</td>\n",
       "      <td>434.0</td>\n",
       "      <td>0.1367</td>\n",
       "      <td>0.18220</td>\n",
       "      <td>0.08669</td>\n",
       "      <td>0.08611</td>\n",
       "      <td>0.2102</td>\n",
       "      <td>0.06784</td>\n",
       "      <td>NaN</td>\n",
       "    </tr>\n",
       "    <tr>\n",
       "      <th>106</th>\n",
       "      <td>863031</td>\n",
       "      <td>B</td>\n",
       "      <td>11.640</td>\n",
       "      <td>18.33</td>\n",
       "      <td>75.17</td>\n",
       "      <td>412.5</td>\n",
       "      <td>0.11420</td>\n",
       "      <td>0.10170</td>\n",
       "      <td>0.070700</td>\n",
       "      <td>0.034850</td>\n",
       "      <td>...</td>\n",
       "      <td>29.26</td>\n",
       "      <td>85.51</td>\n",
       "      <td>521.7</td>\n",
       "      <td>0.1688</td>\n",
       "      <td>0.26600</td>\n",
       "      <td>0.28730</td>\n",
       "      <td>0.12180</td>\n",
       "      <td>0.2806</td>\n",
       "      <td>0.09097</td>\n",
       "      <td>NaN</td>\n",
       "    </tr>\n",
       "    <tr>\n",
       "      <th>309</th>\n",
       "      <td>893548</td>\n",
       "      <td>B</td>\n",
       "      <td>13.050</td>\n",
       "      <td>13.84</td>\n",
       "      <td>82.71</td>\n",
       "      <td>530.6</td>\n",
       "      <td>0.08352</td>\n",
       "      <td>0.03735</td>\n",
       "      <td>0.004559</td>\n",
       "      <td>0.008829</td>\n",
       "      <td>...</td>\n",
       "      <td>17.40</td>\n",
       "      <td>93.96</td>\n",
       "      <td>672.4</td>\n",
       "      <td>0.1016</td>\n",
       "      <td>0.05847</td>\n",
       "      <td>0.01824</td>\n",
       "      <td>0.03532</td>\n",
       "      <td>0.2107</td>\n",
       "      <td>0.06580</td>\n",
       "      <td>NaN</td>\n",
       "    </tr>\n",
       "    <tr>\n",
       "      <th>286</th>\n",
       "      <td>8912909</td>\n",
       "      <td>B</td>\n",
       "      <td>11.940</td>\n",
       "      <td>20.76</td>\n",
       "      <td>77.87</td>\n",
       "      <td>441.0</td>\n",
       "      <td>0.08605</td>\n",
       "      <td>0.10110</td>\n",
       "      <td>0.065740</td>\n",
       "      <td>0.037910</td>\n",
       "      <td>...</td>\n",
       "      <td>27.29</td>\n",
       "      <td>92.20</td>\n",
       "      <td>546.1</td>\n",
       "      <td>0.1116</td>\n",
       "      <td>0.28130</td>\n",
       "      <td>0.23650</td>\n",
       "      <td>0.11550</td>\n",
       "      <td>0.2465</td>\n",
       "      <td>0.09981</td>\n",
       "      <td>NaN</td>\n",
       "    </tr>\n",
       "    <tr>\n",
       "      <th>81</th>\n",
       "      <td>8611161</td>\n",
       "      <td>B</td>\n",
       "      <td>13.340</td>\n",
       "      <td>15.86</td>\n",
       "      <td>86.49</td>\n",
       "      <td>520.0</td>\n",
       "      <td>0.10780</td>\n",
       "      <td>0.15350</td>\n",
       "      <td>0.116900</td>\n",
       "      <td>0.069870</td>\n",
       "      <td>...</td>\n",
       "      <td>23.19</td>\n",
       "      <td>96.66</td>\n",
       "      <td>614.9</td>\n",
       "      <td>0.1536</td>\n",
       "      <td>0.47910</td>\n",
       "      <td>0.48580</td>\n",
       "      <td>0.17080</td>\n",
       "      <td>0.3527</td>\n",
       "      <td>0.10160</td>\n",
       "      <td>NaN</td>\n",
       "    </tr>\n",
       "    <tr>\n",
       "      <th>69</th>\n",
       "      <td>859487</td>\n",
       "      <td>B</td>\n",
       "      <td>12.780</td>\n",
       "      <td>16.49</td>\n",
       "      <td>81.37</td>\n",
       "      <td>502.5</td>\n",
       "      <td>0.09831</td>\n",
       "      <td>0.05234</td>\n",
       "      <td>0.036530</td>\n",
       "      <td>0.028640</td>\n",
       "      <td>...</td>\n",
       "      <td>19.76</td>\n",
       "      <td>85.67</td>\n",
       "      <td>554.9</td>\n",
       "      <td>0.1296</td>\n",
       "      <td>0.07061</td>\n",
       "      <td>0.10390</td>\n",
       "      <td>0.05882</td>\n",
       "      <td>0.2383</td>\n",
       "      <td>0.06410</td>\n",
       "      <td>NaN</td>\n",
       "    </tr>\n",
       "    <tr>\n",
       "      <th>310</th>\n",
       "      <td>893783</td>\n",
       "      <td>B</td>\n",
       "      <td>11.700</td>\n",
       "      <td>19.11</td>\n",
       "      <td>74.33</td>\n",
       "      <td>418.7</td>\n",
       "      <td>0.08814</td>\n",
       "      <td>0.05253</td>\n",
       "      <td>0.015830</td>\n",
       "      <td>0.011480</td>\n",
       "      <td>...</td>\n",
       "      <td>26.55</td>\n",
       "      <td>80.92</td>\n",
       "      <td>483.1</td>\n",
       "      <td>0.1223</td>\n",
       "      <td>0.10870</td>\n",
       "      <td>0.07915</td>\n",
       "      <td>0.05741</td>\n",
       "      <td>0.3487</td>\n",
       "      <td>0.06958</td>\n",
       "      <td>NaN</td>\n",
       "    </tr>\n",
       "    <tr>\n",
       "      <th>258</th>\n",
       "      <td>887181</td>\n",
       "      <td>M</td>\n",
       "      <td>15.660</td>\n",
       "      <td>23.20</td>\n",
       "      <td>110.20</td>\n",
       "      <td>773.5</td>\n",
       "      <td>0.11090</td>\n",
       "      <td>0.31140</td>\n",
       "      <td>0.317600</td>\n",
       "      <td>0.137700</td>\n",
       "      <td>...</td>\n",
       "      <td>31.64</td>\n",
       "      <td>143.70</td>\n",
       "      <td>1226.0</td>\n",
       "      <td>0.1504</td>\n",
       "      <td>0.51720</td>\n",
       "      <td>0.61810</td>\n",
       "      <td>0.24620</td>\n",
       "      <td>0.3277</td>\n",
       "      <td>0.10190</td>\n",
       "      <td>NaN</td>\n",
       "    </tr>\n",
       "    <tr>\n",
       "      <th>391</th>\n",
       "      <td>903483</td>\n",
       "      <td>B</td>\n",
       "      <td>8.734</td>\n",
       "      <td>16.84</td>\n",
       "      <td>55.27</td>\n",
       "      <td>234.3</td>\n",
       "      <td>0.10390</td>\n",
       "      <td>0.07428</td>\n",
       "      <td>0.000000</td>\n",
       "      <td>0.000000</td>\n",
       "      <td>...</td>\n",
       "      <td>22.80</td>\n",
       "      <td>64.01</td>\n",
       "      <td>317.0</td>\n",
       "      <td>0.1460</td>\n",
       "      <td>0.13100</td>\n",
       "      <td>0.00000</td>\n",
       "      <td>0.00000</td>\n",
       "      <td>0.2445</td>\n",
       "      <td>0.08865</td>\n",
       "      <td>NaN</td>\n",
       "    </tr>\n",
       "  </tbody>\n",
       "</table>\n",
       "<p>10 rows × 33 columns</p>\n",
       "</div>"
      ],
      "text/plain": [
       "          id diagnosis  radius_mean  texture_mean  perimeter_mean  area_mean  \\\n",
       "469   911366         B       11.620         18.18           76.38      408.8   \n",
       "139   868871         B       11.280         13.39           73.00      384.8   \n",
       "106   863031         B       11.640         18.33           75.17      412.5   \n",
       "309   893548         B       13.050         13.84           82.71      530.6   \n",
       "286  8912909         B       11.940         20.76           77.87      441.0   \n",
       "81   8611161         B       13.340         15.86           86.49      520.0   \n",
       "69    859487         B       12.780         16.49           81.37      502.5   \n",
       "310   893783         B       11.700         19.11           74.33      418.7   \n",
       "258   887181         M       15.660         23.20          110.20      773.5   \n",
       "391   903483         B        8.734         16.84           55.27      234.3   \n",
       "\n",
       "     smoothness_mean  compactness_mean  concavity_mean  concave points_mean  \\\n",
       "469          0.11750           0.14830        0.102000             0.055640   \n",
       "139          0.11640           0.11360        0.046350             0.047960   \n",
       "106          0.11420           0.10170        0.070700             0.034850   \n",
       "309          0.08352           0.03735        0.004559             0.008829   \n",
       "286          0.08605           0.10110        0.065740             0.037910   \n",
       "81           0.10780           0.15350        0.116900             0.069870   \n",
       "69           0.09831           0.05234        0.036530             0.028640   \n",
       "310          0.08814           0.05253        0.015830             0.011480   \n",
       "258          0.11090           0.31140        0.317600             0.137700   \n",
       "391          0.10390           0.07428        0.000000             0.000000   \n",
       "\n",
       "     ...  texture_worst  perimeter_worst  area_worst  smoothness_worst  \\\n",
       "469  ...          25.40            88.14       528.1            0.1780   \n",
       "139  ...          15.77            76.53       434.0            0.1367   \n",
       "106  ...          29.26            85.51       521.7            0.1688   \n",
       "309  ...          17.40            93.96       672.4            0.1016   \n",
       "286  ...          27.29            92.20       546.1            0.1116   \n",
       "81   ...          23.19            96.66       614.9            0.1536   \n",
       "69   ...          19.76            85.67       554.9            0.1296   \n",
       "310  ...          26.55            80.92       483.1            0.1223   \n",
       "258  ...          31.64           143.70      1226.0            0.1504   \n",
       "391  ...          22.80            64.01       317.0            0.1460   \n",
       "\n",
       "     compactness_worst  concavity_worst  concave points_worst  symmetry_worst  \\\n",
       "469            0.28780          0.31860               0.14160          0.2660   \n",
       "139            0.18220          0.08669               0.08611          0.2102   \n",
       "106            0.26600          0.28730               0.12180          0.2806   \n",
       "309            0.05847          0.01824               0.03532          0.2107   \n",
       "286            0.28130          0.23650               0.11550          0.2465   \n",
       "81             0.47910          0.48580               0.17080          0.3527   \n",
       "69             0.07061          0.10390               0.05882          0.2383   \n",
       "310            0.10870          0.07915               0.05741          0.3487   \n",
       "258            0.51720          0.61810               0.24620          0.3277   \n",
       "391            0.13100          0.00000               0.00000          0.2445   \n",
       "\n",
       "     fractal_dimension_worst  Unnamed: 32  \n",
       "469                  0.09270          NaN  \n",
       "139                  0.06784          NaN  \n",
       "106                  0.09097          NaN  \n",
       "309                  0.06580          NaN  \n",
       "286                  0.09981          NaN  \n",
       "81                   0.10160          NaN  \n",
       "69                   0.06410          NaN  \n",
       "310                  0.06958          NaN  \n",
       "258                  0.10190          NaN  \n",
       "391                  0.08865          NaN  \n",
       "\n",
       "[10 rows x 33 columns]"
      ]
     },
     "execution_count": 2,
     "metadata": {},
     "output_type": "execute_result"
    }
   ],
   "source": [
    "# let's load the cancer dataset\n",
    "dataset = pd.read_csv('./datasets/cancer_dataset.csv')\n",
    "# print the number of rows in the data set\n",
    "number_of_rows = len(dataset)\n",
    "# reminder, the data looks like this\n",
    "dataset.sample(10)"
   ]
  },
  {
   "cell_type": "code",
   "execution_count": 12,
   "metadata": {
    "slideshow": {
     "slide_type": "skip"
    }
   },
   "outputs": [],
   "source": [
    "def plot_3d_lls(x, y, z, lls_sol, title=\"\"):\n",
    "    # plot\n",
    "    fig = plt.figure(figsize=(5, 5))\n",
    "    ax = fig.add_subplot(111, projection='3d')\n",
    "    ax.scatter(x, y, z, label='Y')\n",
    "    ax.scatter(x, y, lls_sol, label='Xw')\n",
    "    ax.legend()\n",
    "    ax.set_xlabel('Radius Mean')\n",
    "    ax.set_ylabel('Area Mean')\n",
    "    ax.set_zlabel('Perimeter Mean')\n",
    "    ax.set_title(title)\n",
    "    plt.show()"
   ]
  },
  {
   "cell_type": "code",
   "execution_count": 4,
   "metadata": {
    "slideshow": {
     "slide_type": "skip"
    }
   },
   "outputs": [],
   "source": [
    "def batch_generator(x, y, batch_size, shuffle=True):\n",
    "    \"\"\"\n",
    "    This function generates batches for a given dataset x.\n",
    "    \"\"\"\n",
    "    N, L = x.shape\n",
    "    num_batches = N // batch_size\n",
    "    batch_x = []\n",
    "    batch_y = []\n",
    "    if shuffle:\n",
    "        # shuffle\n",
    "        rand_gen = np.random.RandomState(0)\n",
    "        shuffled_indices = rand_gen.permutation(np.arange(N))\n",
    "        x = x[shuffled_indices, :]\n",
    "        y = y[shuffled_indices, :]\n",
    "    for i in range(N):\n",
    "        batch_x.append(x[i, :])\n",
    "        batch_y.append(y[i, :])\n",
    "        if len(batch_x) == batch_size:\n",
    "            yield np.array(batch_x).reshape(batch_size, L), np.array(batch_y).reshape(batch_size, 1)\n",
    "            batch_x = []\n",
    "            batch_y = []\n",
    "    if batch_x:\n",
    "        yield np.array(batch_x).reshape(-1, L), np.array(batch_y).reshape(-1, 1)"
   ]
  },
  {
   "cell_type": "markdown",
   "metadata": {
    "slideshow": {
     "slide_type": "subslide"
    }
   },
   "source": [
    "* **Pseudocode** for Linear Regression:\n",
    "    * **Require**: Learning rate $\\alpha_k$\n",
    "    * **Require**: Initial parameter $w$\n",
    "    * **While** stopping criterion not met **do**\n",
    "        * Sample a minibatch of $m$ examples from the training set ($m=1$ for SGD)\n",
    "        * Set $\\tilde{X} = [x_1,...,x_m] $ with corresponding targets $\\tilde{Y} = [y_1,...,y_m]$\n",
    "        * Compute gradient: $g \\leftarrow 2\\tilde{X}^T\\tilde{X}w - 2\\tilde{X}^T \\tilde{Y}$\n",
    "        * Apply update: $w \\leftarrow w - \\alpha_k g$\n",
    "        * $k \\leftarrow k + 1$\n",
    "    * **end while**"
   ]
  },
  {
   "cell_type": "code",
   "execution_count": 9,
   "metadata": {
    "slideshow": {
     "slide_type": "subslide"
    }
   },
   "outputs": [],
   "source": [
    "# multivaraite mini-batch gradient descent\n",
    "X = dataset[['radius_mean', 'area_mean']].values\n",
    "Y = dataset[['perimeter_mean']].values"
   ]
  },
  {
   "cell_type": "code",
   "execution_count": 10,
   "metadata": {
    "slideshow": {
     "slide_type": "subslide"
    }
   },
   "outputs": [],
   "source": [
    "# Scaling\n",
    "X = (X - X.mean(axis=0, keepdims=True)) / X.std(axis=0, keepdims=True)\n",
    "Y = (Y - Y.mean(axis=0, keepdims=True)) / Y.std(axis=0, keepdims=True)"
   ]
  },
  {
   "cell_type": "code",
   "execution_count": 11,
   "metadata": {
    "slideshow": {
     "slide_type": "subslide"
    }
   },
   "outputs": [
    {
     "name": "stdout",
     "output_type": "stream",
     "text": [
      "total batches: 56\n"
     ]
    }
   ],
   "source": [
    "N = X.shape[0]\n",
    "batch_size = 10\n",
    "num_batches = N // batch_size\n",
    "print(\"total batches:\", num_batches)"
   ]
  },
  {
   "cell_type": "code",
   "execution_count": 16,
   "metadata": {
    "slideshow": {
     "slide_type": "subslide"
    }
   },
   "outputs": [
    {
     "name": "stdout",
     "output_type": "stream",
     "text": [
      "iter: 0 batch: 0  w =  [0. 0.]\n",
      "iter: 0 batch: 50  w =  [0.4391737  0.41735388]\n",
      "iter: 1 batch: 0  w =  [0.45621431 0.43296123]\n",
      "iter: 1 batch: 50  w =  [0.50458588 0.46953377]\n",
      "iter: 2 batch: 0  w =  [0.50659246 0.46976394]\n",
      "iter: 2 batch: 50  w =  [0.51664408 0.46913792]\n",
      "iter: 3 batch: 0  w =  [0.51715596 0.46786206]\n",
      "iter: 3 batch: 50  w =  [0.52339741 0.46367398]\n",
      "iter: 4 batch: 0  w =  [0.52374047 0.4622501 ]\n",
      "iter: 4 batch: 50  w =  [0.5295512  0.45779193]\n",
      "iter: 5 batch: 0  w =  [0.52985556 0.456353  ]\n",
      "iter: 5 batch: 50  w =  [0.53556725 0.45194588]\n",
      "iter: 6 batch: 0  w =  [0.53584598 0.45050492]\n",
      "iter: 6 batch: 50  w =  [0.54149192 0.44617918]\n",
      "iter: 7 batch: 0  w =  [0.54174661 0.44473749]\n",
      "iter: 7 batch: 50  w =  [0.54733087 0.44049501]\n",
      "iter: 8 batch: 0  w =  [0.54756198 0.43905271]\n",
      "iter: 8 batch: 50  w =  [0.55308576 0.43489257]\n",
      "iter: 9 batch: 0  w =  [0.55329364 0.43344969]\n",
      "iter: 9 batch: 50  w =  [0.55875783 0.42937075]\n"
     ]
    }
   ],
   "source": [
    "num_epochs = 10\n",
    "alpha_k = 0.001\n",
    "batch_gen = batch_generator(X, Y, batch_size, shuffle=True)\n",
    "L = X.shape[-1]\n",
    "# initialize w\n",
    "w = np.zeros((L, 1))\n",
    "for i in range(num_epochs):\n",
    "    for batch_i, batch in enumerate(batch_gen):\n",
    "        batch_x, batch_y = batch\n",
    "        if batch_i % 50 == 0:\n",
    "            print(\"iter:\", i, \"batch:\", batch_i, \" w = \", w.flatten())\n",
    "        gradient = 2 * batch_x.T @ batch_x @ w - 2 * batch_x.T @ batch_y\n",
    "        w = w - alpha_k * gradient\n",
    "    batch_gen = batch_generator(X, Y, batch_size, shuffle=True)\n",
    "\n",
    "lls_sol = X @ w"
   ]
  },
  {
   "cell_type": "code",
   "execution_count": 18,
   "metadata": {
    "slideshow": {
     "slide_type": "subslide"
    }
   },
   "outputs": [
    {
     "data": {
      "image/png": "[encoded data removed]",
      "text/plain": [
       "<Figure size 500x500 with 1 Axes>"
      ]
     },
     "metadata": {},
     "output_type": "display_data"
    },
    {
     "name": "stdout",
     "output_type": "stream",
     "text": [
      "w:  [0.55894282 0.42792729]\n"
     ]
    }
   ],
   "source": [
    "# plot\n",
    "plot_3d_lls(X[:,0], X[:, 1], Y, lls_sol, \"Breast Cancer - Radius Mean vs. Area Mean vs. Perimeter Mean - LLS Mini-Batch GD\")\n",
    "print(\"w: \", w.flatten())\n"
   ]
  },
  {
   "cell_type": "code",
   "execution_count": null,
   "metadata": {},
   "outputs": [],
   "source": []
  },
  {
   "cell_type": "markdown",
   "metadata": {
    "slideshow": {
     "slide_type": "slide"
    }
   },
   "source": [
    "<!-- ## <img src=\"https://img.icons8.com/clouds/100/000000/stopwatch.png\" style=\"height:50px;display:inline\"> Learning Rate Scheduling (Annealing)\n",
    "---\n",
    "* When training deep networks, it is usually helpful to anneal (gradually change the rate) the learning rate over time. \n",
    "    * **Physics intuition**: with a high learning rate, the system contains too much *kinetic energy* and the parameter vector bounces around chaotically, unable to settle down into deeper, but narrower parts of the loss function. \n",
    "* Knowing when to decay the learning rate can be tricky: decay it **slowly** and you’ll be wasting computation bouncing around chaotically with little improvement for a long time. But decay it **too aggressively** and the system will cool too quickly, unable to reach the best position it can. \n",
    "* There are three common types of implementing the learning rate decay: step deacy, exponential decay and $1/t$ decay.\n",
    "    * Recently, *cyclic* learning schedulers, such as <a href=\"https://www.kaggle.com/residentmario/one-cycle-learning-rate-schedulers\">One-cycle learning rate scheduler</a> or *cosine* scheduling, have been gaining popularity as well. -->"
   ]
  },
  {
   "cell_type": "markdown",
   "metadata": {
    "slideshow": {
     "slide_type": "subslide"
    }
   },
   "source": [
    "<!-- * **(Multi) Step decay**: Reduce the learning rate by some factor every few epochs. \n",
    "    * Typical values might be reducing the learning rate by a half every 5 epochs, or by 0.1 every 20 epochs. These numbers depend heavily on the type of problem and the model. \n",
    "    * One heuristic you may see in practice is to watch the *validation error* while training with a fixed learning rate, and reduce the learning rate by a constant (e.g. 0.5) whenever the validation error stops improving. -->"
   ]
  },
  {
   "cell_type": "markdown",
   "metadata": {
    "slideshow": {
     "slide_type": "subslide"
    }
   },
   "source": [
    "<!-- * **Exponential decay**: has the mathematical form: $$\\alpha = \\alpha_0 \\exp(-kt),$$ where $\\alpha_0, k$ are hyperparameters and $t$ is the iteration number (but you can also use units of epochs).\n",
    "    * $\\alpha_0$ is the initial learning rate.\n",
    "    * $k$ is also referred to as the `gamma` ($\\gamma$) hyperparameter. -->"
   ]
  },
  {
   "cell_type": "markdown",
   "metadata": {
    "slideshow": {
     "slide_type": "subslide"
    }
   },
   "source": [
    "<!-- * **1/t decay**: has the mathematical form: $$\\alpha = \\frac{\\alpha_0}{1+kt},$$ where $\\alpha_0,k$ are hyperparameters and $t$ is the iteration number. -->"
   ]
  },
  {
   "cell_type": "markdown",
   "metadata": {
    "slideshow": {
     "slide_type": "subslide"
    }
   },
   "source": [
    "<!-- * **Cosine annealing**: has the mathematical form: $$ \\alpha = \\alpha_{min} +\\frac{1}{2}(\\alpha_0 - \\alpha_{min})\\left(1 +\\cos\\left(\\frac{t}{t_{max}}\\pi\\right) \\right), $$ where $\\alpha_{min}$ is the minimum learning rate (deafult is 0) and $t_{max}$ is number of iterations to perform a cycle. -->"
   ]
  },
  {
   "cell_type": "markdown",
   "metadata": {
    "slideshow": {
     "slide_type": "subslide"
    }
   },
   "source": [
    "<!-- * In practice, we usually find that the **step decay** is slightly preferable because the hyperparameters it involves (the fraction of decay and the step timings in units of epochs) are more interpretable than the hyperparameter $k$. \n",
    "* Lastly, if you can afford the computational budget, you can try a slower decay and train for a longer time. -->"
   ]
  },
  {
   "cell_type": "markdown",
   "metadata": {
    "tags": []
   },
   "source": [
    "## <img src=\"https://img.icons8.com/clouds/100/000000/stopwatch.png\" style=\"height:50px;display:inline\"> Learning Rate Scheduling (Annealing)\n",
    "\n",
    "---\n",
    "<div style=\"width:100%;height:800px;line-height:3em;overflow:scroll;padding:5px;\">\n",
    "\n",
    "- **Purpose**: Gradually reduce the learning rate during training to improve convergence.\n",
    "\n",
    "- **Physics Intuition**: A high learning rate can cause the parameter vector to oscillate chaotically, preventing convergence to deeper, narrower minima.\n",
    "\n",
    "- **Balancing Act**:  \n",
    "  - **Slow decay** wastes computation by bouncing chaotically for too long.  \n",
    "  - **Fast decay** may \"freeze\" the system before reaching the best position.\n",
    "\n",
    "**Common Decay Methods**:\n",
    "  - **Step Decay**: Reduce the learning rate by a constant factor at fixed intervals (e.g., by half every 5 epochs).\n",
    "  - **Exponential Decay**: $$\\alpha = \\alpha_0 \\exp(-kt)  $$ \n",
    "  - **1/t Decay**: $$\\alpha = \\frac{\\alpha_0}{1+kt}\\,,$$ decaying inversely with time.\n",
    "    \n",
    "  - **Cosine Annealing**: Smooth periodic reduction with formula:  \n",
    "    $$\\alpha = \\alpha_{min} + \\frac{1}{2} (\\alpha_0 - \\alpha_{min}) \\left(1 + \\cos\\left(\\frac{t}{t_{max}} \\pi\\right)\\right)$$\n",
    "\n",
    "  Hyperparameters: $k$ - decay-rate, $\\alpha_0$ - initial learning rate.\n",
    "\n",
    "- **Practical Tips**:  \n",
    "    - Step decay is often preferred due to its interpretable hyperparameters (decay fraction and timing). \n",
    "    - Slower decay combined with longer training may yield better results.\n",
    "    - **Emerging Schedulers**: Cyclic learning rates, like the [One-Cycle Learning Rate Scheduler](https://www.kaggle.com/residentmario/one-cycle-learning-rate-schedulers), are increasingly popular.\n",
    "\n",
    "    - **Learning Rate Warmup**:  Gradually increase the learning rate from a small value during initial epochs to stabilize early training.\n",
    "\n",
    "<center><img src=\"./assets/Comparison-between-constant-lr-scheduler-and-cosine-annealing-lr-scheduler-with-linear.png\" style=\"height:200px\"></center>\n",
    "\n",
    "    \n",
    "<a href=\"https://www.researchgate.net/figure/Comparison-between-constant-lr-scheduler-and-cosine-annealing-lr-scheduler-with-linear_fig1_336936339\">Image Source</a>\n",
    "\n",
    "  </div>"
   ]
  },
  {
   "cell_type": "markdown",
   "metadata": {
    "tags": []
   },
   "source": []
  },
  {
   "cell_type": "markdown",
   "metadata": {
    "tags": []
   },
   "source": []
  },
  {
   "cell_type": "markdown",
   "metadata": {
    "slideshow": {
     "slide_type": "slide"
    }
   },
   "source": [
    "### <img src=\"https://img.icons8.com/cotton/64/000000/olympic-torch.png\" style=\"height:50px;display:inline\"> Learning Rate Scheduling in PyTorch\n",
    "---\n",
    "* We will use learning rate scheduling to train the neural network models later in the course.\n",
    "* PyTorch offers several schedulers which can be found <a href=\"https://pytorch.org/docs/stable/optim.html#how-to-adjust-learning-rate\">here</a>.\n",
    "* A typical workflow with schedulers (learning rate scheduling should be applied **after** optimizer’s update):\n",
    "<code>\n",
    "scheduler = ...\n",
    "for epoch in range(100):\n",
    "    train(...)\n",
    "    validate(...)\n",
    "    scheduler.step()\n",
    "</code>"
   ]
  },
  {
   "cell_type": "markdown",
   "metadata": {
    "slideshow": {
     "slide_type": "subslide"
    }
   },
   "source": [
    "* <a href=\"https://pytorch.org/docs/stable/generated/torch.optim.lr_scheduler.StepLR.html#torch.optim.lr_scheduler.StepLR\">`torch.optim.lr_scheduler.StepLR`</a>\n",
    "* <a href=\"https://pytorch.org/docs/stable/generated/torch.optim.lr_scheduler.MultiStepLR.html#torch.optim.lr_scheduler.MultiStepLR\">`torch.optim.lr_scheduler.MultiStepLR`</a>\n",
    "* <a href=\"https://pytorch.org/docs/stable/generated/torch.optim.lr_scheduler.ExponentialLR.html#torch.optim.lr_scheduler.ExponentialLR\">`torch.optim.lr_scheduler.ExponentialLR`</a>\n",
    "* <a href=\"https://pytorch.org/docs/stable/generated/torch.optim.lr_scheduler.CosineAnnealingLR.html#torch.optim.lr_scheduler.CosineAnnealingLR\">`torch.optim.lr_scheduler.CosineAnnealingLR`</a>\n",
    "* <a href=\"https://pytorch.org/docs/stable/generated/torch.optim.lr_scheduler.OneCycleLR.html#torch.optim.lr_scheduler.OneCycleLR\">`torch.optim.lr_scheduler.OneCycleLR`</a>\n",
    "* <a href=\"https://pytorch.org/docs/stable/generated/torch.optim.lr_scheduler.CyclicLR.html#torch.optim.lr_scheduler.CyclicLR\">`torch.optim.lr_scheduler.CyclicLR`</a>\n",
    "* And more..."
   ]
  },
  {
   "cell_type": "markdown",
   "metadata": {
    "slideshow": {
     "slide_type": "subslide"
    }
   },
   "source": [
    "#### Reducing LR on Plateau\n",
    "---\n",
    "* Reduce learning rate when <ins>a metric has stopped improving</ins> (usually the validation accuracy).\n",
    "* Models often benefit from reducing the learning rate by a factor of 2-10 once learning does not improve. \n",
    "* This scheduler reads a metrics quantity and if no improvement is seen for a `patience` number of epochs, the learning rate is reduced.\n",
    "* In PyTorch: <a href=\"https://pytorch.org/docs/stable/generated/torch.optim.lr_scheduler.ReduceLROnPlateau.html#torch.optim.lr_scheduler.ReduceLROnPlateau\">`torch.optim.lr_scheduler.ReduceLROnPlateau`</a>."
   ]
  },
  {
   "cell_type": "markdown",
   "metadata": {
    "slideshow": {
     "slide_type": "subslide"
    }
   },
   "source": [
    "<center><img src=\"./assets/tut_opt_reduce_lr.png\" style=\"height:300px\"></center>\n",
    "\n",
    "* <a href=\"https://www.researchgate.net/publication/339252130_Exponential_Step_Sizes_for_Non-Convex_Optimization\">Exponential Step Sizes for Non-Convex Optimization, Li et al. 2020</a>.\n",
    "* Plots of the train loss and test accuracy for training a 20-layer Residual Network to do image classification on CIFAR-10.\n",
    "* The number of milestones in the legend denotes how many times we can choose to decrease the step size during training."
   ]
  },
  {
   "cell_type": "markdown",
   "metadata": {},
   "source": [
    "### <img src=\"https://img.icons8.com/cotton/64/000000/stop-sign.png\" style=\"height:50px;display:inline\"> Question time!\n",
    "---\n",
    "#### Lecture question\n",
    "This question relates to slide ~26 in the Optimization lecture slides.\n",
    "\n",
    "For multivariate quadratic optimization via GD i.e.\n",
    "$$f(w)=\\frac{1}{2}w^THw$$\n",
    "$$\\nabla f(w)=Hw$$\n",
    "$$w(t)=w(t-1)-\\eta Hw(t-1)$$\n",
    "We saw in the lecture (via Eigenvalue Decoposition) that \n",
    "$$H=U^T \\Lambda U\\quad ; \\quad z(t)\\triangleq U^T w(t)$$\n",
    "where $\\Lambda$ is the eigenvalue matrix with eigenvalues $\\lambda_1 \\leq \\lambda_2 \\leq...\\leq \\lambda_d$.\n",
    "$$z(t)=(I-\\eta\\Lambda)^t z(0)$$\n",
    "\n",
    "Show that:\n",
    "1. $$f(w(t))=\\sum_{i=1}^d (1-\\eta\\lambda_i)^{2t}\\lambda_iz^2_i(0)$$\n",
    "2. $$\\mathrm{rate}(\\eta)=\\max(|1-\\eta\\lambda_{\\min}|,|1-\\eta\\lambda_{\\max}|)$$ (explain informally)\n",
    "3. $$\\eta_{\\mathrm{opt}}=\\arg\\min_{\\eta}\\mathrm{rate}(\\eta)=\\frac{2}{\\lambda_{\\max}+\\lambda_{\\min}}$$\n",
    "4. $$R_{\\mathrm{optimal}} = \\min_{\\eta}\\mathrm{rate}(\\eta) = \\frac{\\lambda_{max}/ \\lambda_{min} - 1}{\\lambda_{max} / \\lambda_{min} + 1} = \\kappa \\text{(condition number)} $$"
   ]
  },
  {
   "cell_type": "markdown",
   "metadata": {},
   "source": [
    "### <img src=\"https://img.icons8.com/cotton/64/000000/checkmark.png\" style=\"height:50px;display:inline\"> Answer time!\n",
    "---\n",
    "<details>\n",
    "  <summary>Hint</summary>\n",
    "    \n",
    "    1. Use the fact that $U$ is orthogonal, i.e. $U^T U=I$.\n",
    "    \n",
    "    2. Consider what element dominates a decaying exponential sum.\n",
    "    \n",
    "    3. What is the derivative of $\\mathrm{rate}(\\eta)$? what happens at the non-differntiable critical point?\n",
    "    \n",
    "    4. Use section 3\n",
    "</details>\n"
   ]
  },
  {
   "cell_type": "markdown",
   "metadata": {
    "jp-MarkdownHeadingCollapsed": true,
    "tags": []
   },
   "source": [
    "    \n",
    "#### Section 0\n",
    "<span style=\"color:gray\">\n",
    "Show $z(t)=(I-\\eta\\Lambda)^t z(0)$ (Lecture)\n",
    "</span>"
   ]
  },
  {
   "cell_type": "markdown",
   "metadata": {
    "jp-MarkdownHeadingCollapsed": true,
    "tags": []
   },
   "source": [
    "We begin with the definition of the GD step: \n",
    "$$\n",
    "\\begin{aligned}\n",
    "w(t) &= w(t-1) -\\eta H w(t-1) \\\\\n",
    "&= (I -\\eta H)w(t-1) \\\\\n",
    "&= (I -\\eta U\\Lambda U^T)w(t-1)\\\\\n",
    "\\end{aligned}\n",
    "$$\n",
    "\n",
    "We now multiply by $U^T$ from the left-hand side and recall that we defined $$z(0) = U^Tw(0)\\,,$$ $$z(t)=U^Tw(t)$$ to get:\n",
    "\n",
    "$$\\begin{aligned}\n",
    "U^Tw(t) &= U^T(UU^T - \\eta U\\Lambda U^T)w(t-1) \\\\\n",
    "&= (U^TU - \\eta U^TU\\Lambda) U^Tw(t-1) \\\\\n",
    "&= (I -\\eta \\Lambda)z(t-1), \n",
    "\\end{aligned}\n",
    "$$ \n",
    "where we used $UU^T=U^TU=I$.\n",
    "\n",
    "Next, we can unroll the GD steps up to step $t$ to get: $$  z(t) = (I -\\eta \\Lambda)^t z(0). $$"
   ]
  },
  {
   "cell_type": "markdown",
   "metadata": {
    "tags": []
   },
   "source": [
    "#### Section 1\n",
    "<span style=\"color:gray\">\n",
    "Show that $$f(w(t))=\\sum_{i=1}^d (1-\\eta\\lambda_i)^{2t}\\lambda_iz^2_i(0)$$\n",
    "</span>\n",
    "<!-- Going back to the form with $w(t)$ by multiplying by $U$: $$ UU^T w(t) = U(I -\\eta \\Lambda)^t U^T w(0) $$\n",
    "<details>"
   ]
  },
  {
   "cell_type": "markdown",
   "metadata": {
    "tags": []
   },
   "source": [
    "Using \n",
    "$$  z(t) = (I -\\eta \\Lambda)^t z(0) \\,,$$\n",
    "$$  z(t)\\triangleq U^T w(t) \\rightarrow w(t) = Uz(t)$$\n",
    "\n",
    "We get \n",
    "$$ \\begin{aligned}\n",
    "w(t) &= Uz(t) \\\\\n",
    "&= U (I -\\eta \\Lambda)^t z(0) \\\\\n",
    "&= U (I -\\eta \\Lambda)^t U w(0) \\\\\n",
    "\\end{aligned}$$"
   ]
  },
  {
   "cell_type": "markdown",
   "metadata": {
    "tags": []
   },
   "source": [
    "Finally, let's plug-in this result in $f(w)$ to get: \n",
    "$$f(w(t))=\\frac{1}{2}w(t)^THw(t)$$\n",
    "\n",
    "$$ \n",
    "\\begin{aligned}\n",
    "f(w(t)) &= \\frac{1}{2}\\left[U (I -\\eta \\Lambda)^t z(0) \\right]^T U\\Lambda U^T\\left[U (I -\\eta \\Lambda)^t z(0) \\right] \\\\\n",
    "&= \\frac{1}{2}z(0)^T (I -\\eta \\Lambda)^t U^TU \\Lambda  U^TU (I -\\eta \\Lambda)^t z(0) \\\\\n",
    "&= \\frac{1}{2}z(0)^T (I -\\eta \\Lambda)^t \\Lambda (I -\\eta \\Lambda)^t z(0) \\\\\n",
    "&= \\frac{1}{2}z(0)^T (I -\\eta \\Lambda)^{2t}\\Lambda z(0) \\\\\n",
    "&= \\frac{1}{2}\\sum_{i=1}^d (1 - \\eta \\lambda_i)^{2t}\\lambda_i z_i(0)^2 \\\\\n",
    "\\end{aligned}\n",
    "$$\n",
    "</details>"
   ]
  },
  {
   "cell_type": "markdown",
   "metadata": {
    "jp-MarkdownHeadingCollapsed": true,
    "tags": []
   },
   "source": [
    "#### Section 2\n",
    "<span style=\"color:gray\">\n",
    "Explain informally why the conergence rate is $$\\mathrm{rate}(\\eta)=\\max(|1-\\eta\\lambda_{\\min}|,|1-\\eta\\lambda_{\\max}|)$$\n",
    "</span>"
   ]
  },
  {
   "cell_type": "markdown",
   "metadata": {
    "jp-MarkdownHeadingCollapsed": true,
    "tags": []
   },
   "source": [
    "<!-- Looking at the sum above, for $t>1$ this is a decaying exponential sum that is dominated by the slowest decaying components: -->\n",
    "- The expression we got in section 1 is a sum of exponentially decaying components\n",
    "$$(1 - \\eta \\lambda_i)^{2t}\\lambda_i z_i(0)^2$$\n",
    "- The sum is dominated by the <ins>slowest decaying component</ins>\n",
    "$$ \\begin{aligned}\n",
    "rate(\\eta) &= \\max_i |1-\\eta\\lambda_i| \\\\\n",
    "&=  max(|1-\\eta \\lambda_{max}|,|1-\\eta \\lambda_{min}|),\n",
    "\\end{aligned}$$\n",
    "where we denoted $\\lambda_1 =\\lambda_{min}, \\lambda_d = \\lambda_{max}. $"
   ]
  },
  {
   "cell_type": "markdown",
   "metadata": {
    "jp-MarkdownHeadingCollapsed": true,
    "tags": []
   },
   "source": [
    "<details>\n",
    "    <summary>Why?</summary>\n",
    "    \n",
    "* If $1-\\eta \\lambda_{i} \\geq 0 $ then\n",
    "  $$\n",
    "  |1-\\eta \\lambda_{i}| = 1-\\eta \\lambda_{i} \\leq 1-\\eta \\lambda_{min} = |1-\\eta \\lambda_{min}|\n",
    "  $$\n",
    "  (We assume $\\forall i \\,, \\lambda_i \\geq 0$)\n",
    "\n",
    "* If $1-\\eta \\lambda_{i} < 0 $ then\n",
    "  $$\n",
    "  |1-\\eta \\lambda_{i}| = \\eta \\lambda_{i} - 1 \\leq \\eta \\lambda_{max} - 1 = |1-\\eta \\lambda_{max}|\n",
    "  $$\n",
    "</details>"
   ]
  },
  {
   "cell_type": "markdown",
   "metadata": {
    "tags": []
   },
   "source": [
    "#### Section 3\n",
    "<span style=\"color:gray\">\n",
    "Show the optimal learning rate is $$\\eta_{\\mathrm{opt}}=\\arg\\min_{\\eta}\\mathrm{rate}(\\eta)=\\frac{2}{\\lambda_{\\max}+\\lambda_{\\min}}$$\n",
    "</span>"
   ]
  },
  {
   "cell_type": "markdown",
   "metadata": {
    "tags": []
   },
   "source": [
    "Finding the optimal learning rate $\\eta_{optimal}$: \n",
    "- If we take the derivative of $rate(\\eta)$ we will get a constant at any differentiable point. \n",
    "- Thus, the minimum is reached in the non-differentiable critical point \n",
    "- This can also be seen geometrically by drawing the $\\max (\\cdot, \\cdot)$ function\n",
    "$$ |1-\\eta \\lambda_{max}| = |1-\\eta \\lambda_{min}| $$ $$ \\to \\eta \\lambda_{max} - 1 = 1-\\eta \\lambda_{min} $$ $$ \\eta_{optimal} = \\frac{2}{\\lambda_{min} + \\lambda_{max}}. $$"
   ]
  },
  {
   "cell_type": "markdown",
   "metadata": {
    "jp-MarkdownHeadingCollapsed": true,
    "tags": []
   },
   "source": [
    "#### Section 4\n",
    "<span style=\"color:gray\">\n",
    "Show the optimal convergence rate is\n",
    "$$R_{\\mathrm{optimal}} = \\min_{\\eta}\\mathrm{rate}(\\eta) = \\frac{\\lambda_{max}/ \\lambda_{min} - 1}{\\lambda_{max} / \\lambda_{min} + 1} = \\kappa \\text{(condition number)} $$\n",
    "</span>"
   ]
  },
  {
   "cell_type": "markdown",
   "metadata": {
    "tags": []
   },
   "source": [
    "Finally, we plug $\\eta_{optimal}$ in the $rate(\\eta)$ to get:\n",
    "$$ R_{optimal} = rate(\\eta_{optimal}) = 1 -  \\frac{2}{\\lambda_{min} + \\lambda_{max}}\\cdot \\lambda_{min} $$\n",
    "$$ =\\frac{\\lambda_{max} - \\lambda_{min}}{\\lambda_{max} + \\lambda_{min}} = \\frac{ \\frac{\\lambda_{max}}{\\lambda_{min}} - 1 }{\\frac{\\lambda_{max}}{\\lambda_{min}} + 1 }$$"
   ]
  },
  {
   "cell_type": "markdown",
   "metadata": {
    "tags": []
   },
   "source": [
    "#### Extra\n",
    "For most step-sizes, the eigenvectors with largest eigenvalues converge the fastest. \n",
    "This triggers an explosion of progress in the first few iterations, before things slow down as the smaller eigenvectors’ struggles are revealed.\n",
    "\n",
    "In order to converge, each $|1-\\eta \\lambda_i|$ must be strictly less than 1. \n",
    "All workable step-sizes, therefore, fall in the interval: $$ 0 \\leq \\eta \\lambda_i \\leq 2 $$ The overall convergence rate is determined by the slowest error component, which must be either $\\lambda_{min}$ or $\\lambda_{max}$.\n",
    "</details>"
   ]
  },
  {
   "cell_type": "markdown",
   "metadata": {},
   "source": [
    "<!-- ### <img src=\"https://img.icons8.com/cotton/64/000000/checkmark.png\" style=\"height:50px;display:inline\"> Answer time!\n",
    "---\n",
    "<details>\n",
    "  <summary>Hint</summary>\n",
    "    \n",
    "    1. Use the fact that $U$ is orthogonal, i.e. $U^T U=I$.\n",
    "    \n",
    "    2. Consider what element dominates a decaying exponential sum.\n",
    "    \n",
    "    3. What is the derivative of $\\mathrm{rate}(\\eta)$? what happens at the non-differntiable critical point?\n",
    "    \n",
    "    4. Use section 3\n",
    "</details>\n",
    "\n",
    "<details>\n",
    "  <summary>Solution</summary>\n",
    "    \n",
    "#### Section 1\n",
    "We begin with the definition of the GD step: $$ w(t) = w(t-1) -\\eta H w(t-1) = (I -\\eta H)w(t-1) = (I -\\eta U\\Lambda U^T)w(t-1). $$\n",
    "We now multiply by $U^T$ from the left-hand side and recall that we defined $z(0) = U^Tw(0), z(t)=U^Tw(t)$ to get:\n",
    "$$U^Tw(t) = U^T(UU^T - \\eta U\\Lambda U^T)w(t-1) \\to z(t) = (I -\\eta \\Lambda)z(t-1), $$ where we used $UU^T=U^TU=I$.\n",
    "\n",
    "Next, we can unroll the GD steps up to step $t$ to get: $$  z(t) = (I -\\eta \\Lambda)^t z(0). $$\n",
    "\n",
    "Going back to the form with $w(t)$ by multiplying by $U$: $$ UU^T w(t) = U(I -\\eta \\Lambda)^t U^T w(0) $$\n",
    "$$ \\to w(t) = U(I - \\eta \\Lambda)^t U^T w(0) $$\n",
    "\n",
    "Finally, let's plug-in this result in $f(w)$ to get: \n",
    "$$ f(w) = \\frac{1}{2}\\left[U(I -\\eta \\Lambda)^t U^Tw(0) \\right]^T U\\Lambda U^T\\left[U(I -\\eta \\Lambda)^t U^Tw(0) \\right] $$\n",
    "\n",
    "$$ = \\frac{1}{2}z(0)^T (I -\\eta \\Lambda)^t \\Lambda (I -\\eta \\Lambda)^t z(0) $$\n",
    "\n",
    "$$ = \\frac{1}{2}z(0)^T (I -\\eta \\Lambda)^{2t}\\Lambda z(0) $$\n",
    "\n",
    "$$ = \\frac{1}{2}\\sum_{i=1}^d (1 - \\eta \\lambda_i)^{2t}\\lambda_i z_i(0)^2$$\n",
    "\n",
    "#### Section 2\n",
    "Looking at the sum above, for $t>1$ this is a decaying exponential sum that is dominated by by the slowest decaying components: $$ rate(\\eta)=\\max_i |1-\\eta\\lambda_i| =  max(|1-\\eta \\lambda_{max}|,|1-\\eta \\lambda_{min}|),$$ where we denoted $\\lambda_1 =\\lambda_{min}, \\lambda_d = \\lambda_{max}. $\n",
    "#### Section 3\n",
    "Finding the optimal learning rate $\\eta_{optimal}$: if we take the derivative of $rate(\\eta)$ we will get a constant at any differentiable point. Thus, the minimum is reached in the non-differentiable critical point (you can also see this geometrically if you draw the $\\max (\\cdot, \\cdot)$ function): $$ |1-\\eta \\lambda_{max}| = |1-\\eta \\lambda_{min}| $$ $$ \\to \\eta \\lambda_{max} - 1 = 1-\\eta \\lambda_{min} $$ $$ \\eta_{optimal} = \\frac{2}{\\lambda_{min} + \\lambda_{max}}. $$\n",
    "#### Section 4\n",
    "Finally, we plug $\\eta_{optimal}$ in the $rate(\\eta)$ to get:\n",
    "$$ R_{optimal} = rate(\\eta_{optimal}) = 1 -  \\frac{2}{\\lambda_{min} + \\lambda_{max}}\\cdot \\lambda_{min} $$\n",
    "$$ =\\frac{\\lambda_{max} - \\lambda_{min}}{\\lambda_{max} + \\lambda_{min}} = \\frac{ \\frac{\\lambda_{max}}{\\lambda_{min}} - 1 }{\\frac{\\lambda_{max}}{\\lambda_{min}} + 1 }$$\n",
    "#### Extra\n",
    "For most step-sizes, the eigenvectors with largest eigenvalues converge the fastest. \n",
    "This triggers an explosion of progress in the first few iterations, before things slow down as the smaller eigenvectors’ struggles are revealed.\n",
    "\n",
    "In order to converge, each $|1-\\eta \\lambda_i|$ must be strictly less than 1. \n",
    "All workable step-sizes, therefore, fall in the interval: $$ 0 \\leq \\eta \\lambda_i \\leq 2 $$ The overall convergence rate is determined by the slowest error component, which must be either $\\lambda_{min}$ or $\\lambda_{max}$.\n",
    "</details> -->"
   ]
  },
  {
   "cell_type": "markdown",
   "metadata": {},
   "source": [
    "### <img src=\"https://img.icons8.com/cotton/64/000000/stop-sign.png\" style=\"height:50px;display:inline\"> Question time!\n",
    "---\n",
    "#### Lecture question\n",
    "This question relates to slide ~32 in the Optimization lecture slides.\n",
    "$$f(w)=\\frac{1}{2}\\sum_{n=1}^N h_n w^2$$\n",
    "SGD update ($n(t)\\sim U(1,N)$)\n",
    "$$w(t)=w(t-1)-\\eta h_{n(t)}w(t-1)=(1-\\eta h_{n(t)})w(t-1)$$\n",
    "Define \n",
    "$$h\\triangleq \\mathbb{E}h_{n(t)}=\\frac{1}{N}\\sum_{n=1}^N h_n, \\quad \\rho\\triangleq \\mathrm{Var}(h_{n(t)})=\\frac{1}{N}\\sum_{n=1}^N h_n^2-h^2$$\n",
    "\n",
    "Show that \n",
    "1. $$\\mathbb{E}w(t)=(1-\\eta h)\\mathbb{E}w(t-1)$$\n",
    "2. $$\\mathbb{E}w^2(t)=\\left ((1-\\eta h)^2+\\eta^2\\rho\\right )\\mathbb{E}w^2(t-1)$$"
   ]
  },
  {
   "cell_type": "markdown",
   "metadata": {
    "tags": []
   },
   "source": [
    "### <img src=\"https://img.icons8.com/cotton/64/000000/checkmark.png\" style=\"height:50px;display:inline\"> Answer time!\n",
    "---\n",
    "<details>\n",
    "  <summary>Hint</summary>\n",
    "    \n",
    "1. Since $n(t)$ is uniform, $h_{n(t)}$ is independent of $w(t)$\n",
    "    \n",
    "2. Note that $\\mathbb{E}h_{n(t)}^2=\\rho+h^2$\n",
    "    \n",
    "</details>"
   ]
  },
  {
   "cell_type": "markdown",
   "metadata": {
    "tags": []
   },
   "source": [
    "#### Section 1\n",
    "<span style=\"color:gray\">\n",
    "Show that\n",
    "$$\\mathbb{E}w(t)=(1-\\eta h)\\mathbb{E}w(t-1)$$\n",
    "</span>"
   ]
  },
  {
   "cell_type": "markdown",
   "metadata": {
    "jp-MarkdownHeadingCollapsed": true
   },
   "source": [
    "We get\n",
    "$$\\mathbb{E}w(t)=\\mathbb{E}[(1-\\eta h_{n(t)})w(t-1)]$$\n",
    "\n",
    "Since $n(t)$ is uniform, $h_{n(t)}$ is independent of $w(t)$, so \n",
    "$$\\mathbb{E}[h_{n(t)}w(t-1)]=\\mathbb{E}h_{n(t)}\\mathbb{E}w(t-1)$$\n",
    "\n",
    "We get \n",
    "$$\n",
    "\\begin{aligned}\n",
    "\\mathbb{E}w(t) &= \\mathbb{E}[(1-\\eta h_{n(t)})]\\mathbb{E}w(t-1)\\\\\n",
    "&= ((1-\\eta \\mathbb{E}h_{n(t)})\\mathbb{E}w(t-1) \\\\\n",
    "&= ((1-\\eta h)\\mathbb{E}w(t-1)\n",
    "\\end{aligned}\n",
    "$$\n",
    "\n",
    "    "
   ]
  },
  {
   "cell_type": "markdown",
   "metadata": {
    "tags": []
   },
   "source": [
    "#### Section 2\n",
    "<span style=\"color:gray\">\n",
    "Show that\n",
    "$$\\mathbb{E}w^2(t)=\\left ((1-\\eta h)^2+\\eta^2\\rho\\right )\\mathbb{E}w^2(t-1)$$\n",
    "</span>"
   ]
  },
  {
   "cell_type": "markdown",
   "metadata": {
    "jp-MarkdownHeadingCollapsed": true
   },
   "source": [
    "$$\\begin{aligned}\n",
    "\\mathbb{E}w^2(t) &= \\mathbb{E}[(1-\\eta h_{n(t)})^2 w^2(t-1)] \\\\\n",
    "&=\\mathbb{E}[(1-2\\eta h_{n(t)}+\\eta^2 h_{n(t)}^2) w^2(t-1)] \n",
    "\\end{aligned}$$\n",
    "\n",
    "Since $n(t)$ is uniform, $h_{n(t)}$ is independent of $w(t)$, so \n",
    "$$\\mathbb{E}[h_{n(t)}w(t-1)]=\\mathbb{E}h_{n(t)}\\mathbb{E}w(t-1)$$\n",
    "\n",
    "We get \n",
    "$$\n",
    "\\begin{aligned}\n",
    "\\mathbb{E}w(t) &= \\mathbb{E}[1-2\\eta h_{n(t)}+\\eta^2 h_{n(t)}^2] \\mathbb{E}w^2(t-1) \\\\\n",
    "&= [1 - 2\\eta h + \\eta^2 \\mathbb{E} [h_{n(t)}^2] ] \\mathbb{E}w^2(t-1) \\\\\n",
    "&=[1-2\\eta h+\\eta^2 (\\rho+h^2)] \\mathbb{E}w^2(t-1)\n",
    "\\end{aligned}$$\n",
    "\n",
    "In the last transition we used\n",
    "$$ \\rho = \\frac{1}{N}\\sum_{n=1}^N h_n^2-h^2 \\rightarrow \\mathbb{E} [h_{n(t)}^2] = \\rho + h^2 $$\n",
    "\n",
    "Then we get \n",
    "\n",
    "$$\\begin{aligned} \n",
    "\\mathbb{E}w(t) &= [1-2\\eta h+\\eta^2 h^2+ \\eta^2\\rho] \\mathbb{E}w^2(t-1) \\\\ \n",
    "&= [(1-\\eta h)^2+ \\eta^2\\rho] \\mathbb{E}w^2(t-1) \n",
    "\\end{aligned}$$\n",
    "</details>"
   ]
  },
  {
   "cell_type": "markdown",
   "metadata": {
    "tags": []
   },
   "source": [
    "<!-- ## <img src=\"https://img.icons8.com/clouds/100/000000/hill-descent-control.png\" style=\"height:50px;display:inline\"> Momentum & Nesterov Momentum\n",
    "\n",
    "- **Challenge with GD**:  \n",
    "  - Standard gradient descent is simple but slow; small step-sizes ensure steady progress yet limit speed.\n",
    "\n",
    "- **Momentum Advantage**:  \n",
    "  - Introduces a \"short-term memory\" that accelerates convergence by building velocity in consistently descending directions.\n",
    "  - Can be viewed as a particle rolling on hilly terrain, where the gradient acts as force driving acceleration.\n",
    "\n",
    "- **Momentum Update Equations**:  \n",
    "  - $$ z^{k+1} = \\beta z^k - \\alpha\\nabla f(w^k) $$  \n",
    "  - $$ w^{k+1} = w^k + z^{k+1} $$  \n",
    "  - *(Here, $\\alpha$ is the learning rate and $\\beta$ (e.g., 0.99 or 0.999) controls momentum.)*\n",
    "\n",
    "- **Nesterov Momentum**:  \n",
    "  - A variant that uses a lookahead approach to further improve convergence rates.\n",
    "\n",
    "- **Key Insight**:  \n",
    "  - Momentum dampens oscillations, reducing kinetic energy and enabling faster progress towards the optimum—especially effective in large batches.\n",
    "\n",
    "- [Momentum Demo](https://distill.pub/2017/momentum/)\n",
    " -->"
   ]
  },
  {
   "cell_type": "markdown",
   "metadata": {
    "slideshow": {
     "slide_type": "slide"
    }
   },
   "source": [
    "## <img src=\"https://img.icons8.com/clouds/100/000000/hill-descent-control.png\" style=\"height:50px;display:inline\"> Momentum & Nesterov Momentum\n",
    "---\n",
    "* Gradient descent is simple and has many virtues, but **speed** is not one of them.\n",
    "* For a step-size small enough, gradient descent makes a monotonic improvement at every iteration. It should always converge (sometimes to a local minimum).\n",
    "* **Momentum update** is another optimization approach that *almost always* enjoys better convergence rates in deep networks. \n",
    "    * It can be seen as a **\"global\" (equally for all parameters) adaptive learning rate**."
   ]
  },
  {
   "cell_type": "markdown",
   "metadata": {
    "slideshow": {
     "slide_type": "subslide"
    }
   },
   "source": [
    "* This update can be motivated from a physical perspective of the optimization problem. In particular, the loss can be interpreted as the height of a *hilly terrain*.\n",
    "    *  Initializing the parameters with random numbers is equivalent to setting a particle with zero initial velocity at some location. The optimization process can then be seen as equivalent to the process of simulating the parameter vector (i.e. a particle) as rolling on the landscape.\n",
    "    * Since the force on the particle is related to the gradient of potential energy (i.e. $F=−\\nabla U$ ), the force felt by the particle is precisely the (negative) gradient of the loss function. \n",
    "    * Moreover, $F=ma$ so the (negative) gradient is in this view proportional to the acceleration of the particle.\n",
    "    * The physics view suggests an update in which the gradient only directly influences the velocity (and maintains information about the acceleration), which in turn has an effect on the position."
   ]
  },
  {
   "cell_type": "markdown",
   "metadata": {},
   "source": [
    "**Gradient Descent with Momentum**:\n",
    "$$ z^{k+1} = \\beta z^k -\\alpha\\nabla f(w^k) $$ $$ w^{k+1} = w^k + z^{k+1} $$\n",
    "\n",
    "- $\\alpha$: Learning rate\n",
    "- $ z^k $: Memory term\n",
    "- $\\beta$: *Momentum* factor\n",
    "    - Must use  $0 \\leq \\beta < 1$ (why?)\n",
    "    - When $\\beta = 0$ , we recover gradient descent. \n",
    "    - Usually $\\beta \\sim 0.99$ (sometimes 0.999, if things are really bad), this appears to be the boost we need. Our iterations regain that speed and boldness it lost, speeding to the optimum with a renewed energy.\n",
    "* Effectively, $\\beta$ **damps the velocity** and reduces the kinetic energy of the system\n",
    "* Otherwise the particle would never come to a stop at the bottom of a hill.\n",
    "* With Momentum update, the parameter vector will build up velocity in any direction that has <ins>consistent gradient</ins>.\n",
    "* <a href=\"https://distill.pub/2017/momentum/\">Momentum Demo</a>\n",
    "* Note: Momentum usually works in **larger batches** and may break in smaller batches."
   ]
  },
  {
   "cell_type": "markdown",
   "metadata": {
    "slideshow": {
     "slide_type": "subslide"
    }
   },
   "source": [
    "<!-- * Momentum proposes the following tweak to gradient descent, giving gradient descent **a short-term memory**: $$ z^{k+1} = \\beta z^k -\\alpha\\nabla f(w^k) $$ $$ w^{k+1} = w^k + z^{k+1} $$\n",
    "    * $\\alpha$ is the learning rate.\n",
    "\n",
    "* When $\\beta = 0$ , we recover gradient descent. But for $\\beta = 0.99$ (sometimes 0.999, if things are really bad), this appears to be the boost we need. Our iterations regain that speed and boldness it lost, speeding to the optimum with a renewed energy.\n",
    "* $\\beta$ is a variable that is sometimes called *momentum*.\n",
    "* Effectively, this variable **damps the velocity and reduces the kinetic energy of the system**, or otherwise the particle would never come to a stop at the bottom of a hill.\n",
    "* With Momentum update, the parameter vector will build up velocity in any direction that has <ins>consistent gradient</ins>.\n",
    "* <a href=\"https://distill.pub/2017/momentum/\">Momentum Demo</a>\n",
    "* Note: Momentum usually works in **larger batches** and may break in smaller batches. -->"
   ]
  },
  {
   "cell_type": "markdown",
   "metadata": {
    "slideshow": {
     "slide_type": "subslide"
    }
   },
   "source": [
    "<center><img src=\"./assets/sgd-mom.png\" style=\"height:250px\"></center>\n",
    "\n",
    "* <a href=\"https://dominikschmidt.xyz/nesterov-momentum\">Image Source</a>"
   ]
  },
  {
   "cell_type": "markdown",
   "metadata": {},
   "source": [
    "#### Nesterov Momentum\n",
    "---\n",
    "- Nesterov Momentum is a slightly different version of the momentum update that has gained popularity. \n",
    "    - Stronger theoretical convergence guarantees for **convex functions** \n",
    "    - Works slightly better in practice.\n",
    "    \n",
    "    \n",
    "- Main idea: \n",
    "    - When the current weights at some position $w$, the momentum term is about to nudge the current gradient by $\\beta * z_k$. \n",
    "    - When we about to compute the gradient, use a <ins>lookahead</ins> $w + \\beta * z_k$ \n",
    "\n",
    "<!-- * Hence, it makes sense to compute the **gradient** at $x + \\beta * z_k$ instead of at the “old/stale” position $x$, since while the gradient term always points in the right direction, the momentum term may not. \n",
    " -->\n",
    "- If the momentum term points in the wrong direction or overshoots, the gradient can still \"go back\" and correct it in the same update step."
   ]
  },
  {
   "cell_type": "markdown",
   "metadata": {
    "slideshow": {
     "slide_type": "slide"
    }
   },
   "source": [
    "<!-- #### Nesterov Momentum\n",
    "---\n",
    "* Nesterov Momentum is a slightly different version of the momentum update that has gained popularity. \n",
    "* It enjoys stronger theoretical convergence guarantees for **convex functions** and in practice it also consistenly works slightly better than standard momentum.\n",
    "* The core idea behind Nesterov momentum is that when the current parameter vector is at some position $x$, then looking at the momentum update above, we know that the momentum term alone (i.e. ignoring the second term with the gradient) is about to nudge the parameter vector by $\\beta * z_k$. \n",
    "* Therefore, if we are about to compute the gradient, we can treat the future approximate position $x + \\beta * z_k$ as a **“lookahead”** - this is a point in the vicinity of where we are soon going to end up. \n",
    "* Hence, it makes sense to compute the **gradient** at $x + \\beta * z_k$ instead of at the “old/stale” position $x$, since while the gradient term always points in the right direction, the momentum term may not. \n",
    "* If the momentum term points in the wrong direction or overshoots, the gradient can still \"go back\" and correct it in the same update step. -->"
   ]
  },
  {
   "cell_type": "markdown",
   "metadata": {
    "slideshow": {
     "slide_type": "subslide"
    }
   },
   "source": [
    "* **Nesterov Momentum**: $$ z^{k+1} = \\beta z^k -\\alpha \\nabla f(w^k +\\beta z^k) $$ $$ w^{k+1} = w^k + z^{k+1} $$"
   ]
  },
  {
   "cell_type": "markdown",
   "metadata": {
    "slideshow": {
     "slide_type": "subslide"
    }
   },
   "source": [
    "<center><img src=\"./assets/sgd-nag.png\" style=\"height:250px\"></center>\n",
    "\n",
    "* <a href=\"https://dominikschmidt.xyz/nesterov-momentum\">Image Source</a>"
   ]
  },
  {
   "cell_type": "markdown",
   "metadata": {
    "slideshow": {
     "slide_type": "slide"
    }
   },
   "source": [
    "### <img src=\"https://img.icons8.com/cotton/64/000000/olympic-torch.png\" style=\"height:50px;display:inline\"> Momentum in PyTorch\n",
    "---\n",
    "* `torch.optim.SGD(model.parameters(), lr=learning_rate, momentum=0.9, nesterov=True)`\n",
    "* (Note `momentum` $= \\beta$)"
   ]
  },
  {
   "cell_type": "code",
   "execution_count": 8,
   "metadata": {
    "slideshow": {
     "slide_type": "slide"
    }
   },
   "outputs": [
    {
     "name": "stderr",
     "output_type": "stream",
     "text": [
      "/Users/hmichaeli/anaconda3/envs/deep_learn/lib/python3.9/site-packages/torch/optim/lr_scheduler.py:28: UserWarning: The verbose parameter is deprecated. Please use get_last_lr() to access the learning rate.\n",
      "  warnings.warn(\"The verbose parameter is deprecated. Please use get_last_lr() \"\n"
     ]
    },
    {
     "name": "stdout",
     "output_type": "stream",
     "text": [
      "Epoch 0 completed\n",
      "Loss: 0.11388081312179565. Accuracy: 95.62\n",
      "--------------------\n",
      "Epoch 1 completed\n",
      "Loss: 0.014179451391100883. Accuracy: 96.16\n",
      "--------------------\n",
      "Epoch 2 completed\n",
      "Loss: 0.06918156892061234. Accuracy: 96.87\n",
      "--------------------\n",
      "Epoch 3 completed\n",
      "Loss: 0.054913464933633804. Accuracy: 97.48\n",
      "--------------------\n",
      "Epoch 4 completed\n",
      "Loss: 0.034778088331222534. Accuracy: 97.23\n",
      "--------------------\n",
      "Epoch 5 completed\n",
      "Loss: 0.011099637486040592. Accuracy: 97.88\n",
      "--------------------\n",
      "Epoch 6 completed\n",
      "Loss: 0.015837712213397026. Accuracy: 97.96\n",
      "--------------------\n",
      "Epoch 7 completed\n",
      "Loss: 0.008104035630822182. Accuracy: 98.0\n",
      "--------------------\n",
      "Epoch 8 completed\n",
      "Loss: 0.013296498917043209. Accuracy: 98.01\n",
      "--------------------\n",
      "Epoch 9 completed\n",
      "Loss: 0.021013470366597176. Accuracy: 98.02\n",
      "--------------------\n"
     ]
    }
   ],
   "source": [
    "# simple optimizer and lr scheduling example\n",
    "# courtesy of: deeplearningwizard.com/deep_learning/boosting_models_pytorch/lr_scheduling/\n",
    "\n",
    "from torch.optim.lr_scheduler import ReduceLROnPlateau\n",
    "\n",
    "'''\n",
    "STEP 1: LOADING DATASET\n",
    "'''\n",
    "\n",
    "train_dataset = dsets.MNIST(root='./data', \n",
    "                            train=True, \n",
    "                            transform=transforms.ToTensor(),\n",
    "                            download=True)\n",
    "\n",
    "test_dataset = dsets.MNIST(root='./data', \n",
    "                           train=False, \n",
    "                           transform=transforms.ToTensor())\n",
    "\n",
    "'''\n",
    "STEP 2: MAKING DATASET ITERABLE\n",
    "'''\n",
    "\n",
    "batch_size = 100\n",
    "n_iters = 6000\n",
    "num_epochs = n_iters / (len(train_dataset) / batch_size)\n",
    "num_epochs = int(num_epochs)\n",
    "\n",
    "train_loader = torch.utils.data.DataLoader(dataset=train_dataset, \n",
    "                                           batch_size=batch_size, \n",
    "                                           shuffle=True)\n",
    "\n",
    "test_loader = torch.utils.data.DataLoader(dataset=test_dataset, \n",
    "                                          batch_size=batch_size, \n",
    "                                          shuffle=False)\n",
    "\n",
    "'''\n",
    "STEP 3: CREATE MODEL CLASS\n",
    "'''\n",
    "class SimpleModel(nn.Module):\n",
    "    def __init__(self, input_dim, hidden_dim, output_dim):\n",
    "        super(SimpleModel, self).__init__()\n",
    "        # Linear function\n",
    "        self.fc1 = nn.Linear(input_dim, hidden_dim) \n",
    "        # Non-linearity\n",
    "        self.relu = nn.ReLU()\n",
    "        # Linear function (readout)\n",
    "        self.fc2 = nn.Linear(hidden_dim, output_dim)  \n",
    "\n",
    "    def forward(self, x):\n",
    "        # Linear function\n",
    "        out = self.fc1(x)\n",
    "        # Non-linearity\n",
    "        out = self.relu(out)\n",
    "        # Linear function (readout)\n",
    "        out = self.fc2(out)\n",
    "        return out\n",
    "'''\n",
    "STEP 4: INSTANTIATE MODEL CLASS AND DEVICE\n",
    "'''\n",
    "input_dim = 28 * 28\n",
    "hidden_dim = 100\n",
    "output_dim = 10\n",
    "device = torch.device(\"cuda:0\" if torch.cuda.is_available() else \"cpu\")\n",
    "\n",
    "model = SimpleModel(input_dim, hidden_dim, output_dim).to(device)\n",
    "\n",
    "'''\n",
    "STEP 5: INSTANTIATE LOSS CLASS\n",
    "'''\n",
    "criterion = nn.CrossEntropyLoss()\n",
    "\n",
    "\n",
    "'''\n",
    "STEP 6: INSTANTIATE OPTIMIZER CLASS\n",
    "'''\n",
    "learning_rate = 0.1\n",
    "\n",
    "optimizer = torch.optim.SGD(model.parameters(), lr=learning_rate, momentum=0.9, nesterov=True)\n",
    "\n",
    "'''\n",
    "STEP 7: INSTANTIATE STEP LEARNING SCHEDULER CLASS\n",
    "'''\n",
    "# lr = lr * factor \n",
    "# mode='max': look for the maximum validation accuracy to track\n",
    "# patience: number of epochs - 1 where loss plateaus before decreasing LR\n",
    "        # patience = 0, after 1 bad epoch, reduce LR\n",
    "# factor = decaying factor\n",
    "scheduler = ReduceLROnPlateau(optimizer, mode='max', factor=0.1, patience=0, verbose=True)\n",
    "# multi-step\n",
    "# scheduler = MultiStepLR(optimizer, milestones=[50, 80, 100], gamma=0.1)  # reduce lr by x0.1 at epoch 50, 80 and 100\n",
    "\n",
    "'''\n",
    "STEP 7: TRAIN THE MODEL\n",
    "'''\n",
    "iteration = 0\n",
    "for epoch in range(num_epochs):\n",
    "    for i, (images, labels) in enumerate(train_loader):\n",
    "        # Send images and labels to device\n",
    "        images = images.view(-1, 28 * 28).to(device)\n",
    "        labeles = labels.to(device)\n",
    "\n",
    "        # Forward pass to get output/logits\n",
    "        outputs = model(images)\n",
    "\n",
    "        # Calculate Loss: softmax --> cross entropy loss\n",
    "        loss = criterion(outputs, labels)\n",
    "        \n",
    "        # Clear gradients w.r.t. parameters\n",
    "        optimizer.zero_grad()\n",
    "\n",
    "        # Getting gradients w.r.t. parameters\n",
    "        loss.backward()\n",
    "\n",
    "        # Updating parameters\n",
    "        optimizer.step()\n",
    "\n",
    "        iteration += 1\n",
    "        \n",
    "        ''' Validation '''\n",
    "        if iteration % 500 == 0:\n",
    "            # Calculate Accuracy         \n",
    "            correct = 0\n",
    "            total = 0\n",
    "            # Iterate through test dataset\n",
    "            for images, labels in test_loader:\n",
    "                # Send images and labels to device\n",
    "                images = images.view(-1, 28 * 28).to(device)\n",
    "                labeles = labels.to(device)\n",
    "\n",
    "                # Forward pass only to get logits/output\n",
    "                outputs = model(images)\n",
    "\n",
    "                # Get predictions from the maximum value\n",
    "                _, predicted = torch.max(outputs.data, 1)\n",
    "\n",
    "                # Total number of labels\n",
    "                total += labels.size(0)\n",
    "\n",
    "                # Total correct predictions\n",
    "                # Without .item(), it is a uint8 tensor which will not work when you pass this number to the scheduler\n",
    "                correct += (predicted == labels).sum().item()\n",
    "\n",
    "            accuracy = 100 * correct / total\n",
    "\n",
    "            # Print Loss\n",
    "            # print('Iteration: {}. Loss: {}. Accuracy: {}'.format(iter, loss.data[0], accuracy))\n",
    "\n",
    "    # Decay Learning Rate, pass validation accuracy for tracking at every epoch\n",
    "    print('Epoch {} completed'.format(epoch))\n",
    "    print('Loss: {}. Accuracy: {}'.format(loss.item(), accuracy))\n",
    "    print('-' * 20)\n",
    "    scheduler.step(accuracy)  # accuracy is used to track down a plateau\n",
    "    # scheduler.step()  # for multi-step, no need to pass anything to the scheduler when advancing it"
   ]
  },
  {
   "cell_type": "markdown",
   "metadata": {
    "slideshow": {
     "slide_type": "slide"
    }
   },
   "source": [
    "## <img src=\"https://img.icons8.com/dusk/64/000000/wired-network.png\" style=\"height:50px;display:inline\"> Adaptive Learning Rate Methods\n",
    "---\n",
    "- **Adapative learning methods** compute individual learning rates for different parameters.\n",
    "- Previously, we performed an update for all parameters $w$ at once as every parameter $w_i$ used the same learning rate $\\alpha$.\n",
    "\n",
    "\n",
    "Popular algorithms include: AdaGrad, Rprop, RMSprop, Adam and more..."
   ]
  },
  {
   "cell_type": "markdown",
   "metadata": {
    "slideshow": {
     "slide_type": "slide"
    }
   },
   "source": [
    "### <img src=\"https://img.icons8.com/cotton/64/000000/olympic-torch.png\" style=\"height:50px;display:inline\"> Optimizers in PyTorch\n",
    "---\n",
    "All optimizers mentioned in this tutorial and more can be imported from the `torch.optim` library. Check out the full list of available optimizers in <a href=\"https://pytorch.org/docs/stable/optim.html#algorithms\">this link</a>."
   ]
  },
  {
   "cell_type": "markdown",
   "metadata": {
    "slideshow": {
     "slide_type": "slide"
    }
   },
   "source": [
    "<!-- ## <img src=\"https://img.icons8.com/plasticine/100/000000/horizontal-settings-mixer.png\" style=\"height:50px;display:inline\"> Adagrad\n",
    "---\n",
    "* **Adagrad**: one of the first adaptive learning rate algorithm, with the basic idea of adapting the learning rate to the parameters by performing smaller updates (i.e. low learning rates) for parameters associated with *frequently* occurring features, and larger updates (i.e. high learning rates) for parameters associated with *infrequent* features.\n",
    "    * For this reason, it works well with *sparse* data.\n",
    "* Adagrad uses a different learning rate for every parameter $w_i$ at every time step $k$.\n",
    "* We denote:\n",
    "    * $\\alpha$ - the learning rate.\n",
    "    * $g_k = \\nabla f(w^k)$, the gradient at time step $k$, and $g_{i, k}$ the *partial* derivative w.r.t. the parameter $w_i$ at time step $k$.\n",
    "    * $G_k \\in \\mathbb{R}^{d \\times d}$ - a *diagonal* matrix, where each element $G_{i,i}^k$ is the **sum of squares of the gradients w.r.t $w_i$ up to time step $k$**, $G_{i, i}^k = \\sum_{j=1}^k g_{i, j}^2$.\n",
    "    * $\\epsilon$, a \"smoothing\" term that prevents division by zero, deafult is $10^{-8}$, but can range from $10^{-4}$ to $10^{-8}$. -->"
   ]
  },
  {
   "cell_type": "markdown",
   "metadata": {
    "tags": []
   },
   "source": [
    "## <img src=\"https://img.icons8.com/plasticine/100/000000/horizontal-settings-mixer.png\" style=\"height:50px;display:inline\"> Adagrad\n",
    "---\n",
    "* **Adagrad**: one of the first adaptive learning rate algorithm\n",
    "* Main idea: Adapt the learning rate to the parameters by \n",
    "    * smaller updates (i.e. low learning rates) for parameters associated with *frequently* occurring features\n",
    "    * larger updates (i.e. high learning rates) for parameters associated with *infrequent* features.\n",
    "    * For this reason, it works well with *sparse* data.\n",
    "* Adagrad uses a different learning rate for every parameter $w_i$ at every time step $k$.\n",
    "* We denote:\n",
    "    * $\\alpha$ - the learning rate.\n",
    "    * $g_k = \\nabla f(w^k)$, the gradient at time step $k$, and $g_{i, k}$ the *partial* derivative w.r.t. the parameter $w_i$ at time step $k$.\n",
    "    * $G_k \\in \\mathbb{R}^{d \\times d}$ - a *diagonal* matrix, where each element $G_{i,i}^k$ is the **sum of squares of the gradients w.r.t $w_i$ up to time step $k$**, $G_{i, i}^k = \\sum_{j=1}^k g_{i, j}^2$.\n",
    "    * $\\epsilon$, a \"smoothing\" term that prevents division by zero, deafult is $10^{-8}$, but can range from $10^{-4}$ to $10^{-8}$."
   ]
  },
  {
   "cell_type": "markdown",
   "metadata": {
    "slideshow": {
     "slide_type": "subslide"
    }
   },
   "source": [
    "* The Adagrad update rule: $$ w_i^{k+1} = w_i^k -\\frac{\\alpha}{\\sqrt{G_{i,i}^k + \\epsilon}} \\cdot g_{i, k} $$\n",
    "* Interestingly, without the square root operation, the algorithm performs much worse.\n",
    "* In vectorized form, we use the matrix-vector product $\\odot$ between $G_k$ and $g_k$: $$ w^{k+1} = w^k -\\frac{\\alpha}{\\sqrt{G^k + \\epsilon}} \\odot g_{k} $$"
   ]
  },
  {
   "cell_type": "markdown",
   "metadata": {
    "slideshow": {
     "slide_type": "subslide"
    }
   },
   "source": [
    "* **Main advantage**: Alleviates the need to manually reduce the learning rate\n",
    "<!--     * Most implementations use a default value of 0.01 for the learning rate. -->\n",
    "* **Main weakness**: $G_k$ accumulator keeps growing during training (with positive quantities) \n",
    "    * This causes the learning rate to **shrink** and eventually become very small\n",
    "    * At some point the algorithm effectively stops training\n",
    "<!-- * **Main weakness**: $G_k$ is the accumulation of the squared gradients (a positive quantity) in the denominator which keeps growing during training and causes the learning rate to **shrink** and eventually become very small, at which point the algorithm doesn't acquire additional knowledge. -->"
   ]
  },
  {
   "cell_type": "markdown",
   "metadata": {
    "slideshow": {
     "slide_type": "subslide"
    }
   },
   "source": [
    "### <img src=\"https://img.icons8.com/cotton/64/000000/olympic-torch.png\" style=\"height:50px;display:inline\"> Adagrad in PyTorch\n",
    "---\n",
    "* `torch.optim.Adagrad(model.parameters(), lr=learning_rate, initial_accumulator_value=0, eps=1e-10)`"
   ]
  },
  {
   "cell_type": "markdown",
   "metadata": {
    "slideshow": {
     "slide_type": "slide"
    }
   },
   "source": [
    "## <img src=\"https://img.icons8.com/cute-clipart/64/000000/square-root.png\" style=\"height:50px;display:inline\"> RMSprop\n",
    "---\n",
    "* **RMSprop**: an unpublished (no official paper) optimization algorithm designed for neural networks, first proposed by Geoffrey Hinton in <a href=\"https://www.cs.toronto.edu/~tijmen/csc321/slides/lecture_slides_lec6.pdf\">lecture 6 (slide 29)</a> of the online course “Neural Networks for Machine Learning”.\n",
    "* The RMSProp update adjusts the **Adagrad** method in a very simple way in an attempt to reduce its aggressive, monotonically decreasing learning rate.\n",
    "* In particular, it uses **a moving average of squared gradients** instead.\n",
    "* We denote:\n",
    "    * $\\alpha$ - the learning rate.\n",
    "    * $g_k = \\nabla f(w^k)$\n",
    "    * $\\mathbb{E}[g^2]$ - moving average of squared gradients (stored in a cache with squared gradients from previous iterations).\n",
    "    * $\\beta$ - moving average parameter (good default value — 0.9)."
   ]
  },
  {
   "cell_type": "markdown",
   "metadata": {
    "slideshow": {
     "slide_type": "subslide"
    }
   },
   "source": [
    "* The RMSprop update rule: $$ \\mathbb{E}[g^2]_{k+1} = \\beta\\mathbb{E}[g^2]_k + (1-\\beta)g_k^2 $$ $$ w^{k+1} = w^k -\\frac{\\alpha}{\\sqrt{\\mathbb{E}[g^2]_{k+1}}}\\nabla f(w^k) $$\n",
    "* The learning rate is adapted by dividing by the root of squared gradient, but since we only have the estimate of the gradient on the current mini-batch, we need instead to use the moving average of it."
   ]
  },
  {
   "cell_type": "markdown",
   "metadata": {
    "slideshow": {
     "slide_type": "subslide"
    }
   },
   "source": [
    "### <img src=\"https://img.icons8.com/cotton/64/000000/olympic-torch.png\" style=\"height:50px;display:inline\"> RMSprop in PyTorch\n",
    "---\n",
    "* `torch.optim.RMSprop(model.parameters(), lr=learning_rate, alpha=0.99)`\n",
    "    * `alpha` is $\\beta$ from the equations above, the moving average parameter."
   ]
  },
  {
   "cell_type": "markdown",
   "metadata": {
    "slideshow": {
     "slide_type": "slide"
    }
   },
   "source": [
    "## <img src=\"https://img.icons8.com/clouds/100/000000/heat-map.png\" style=\"height:50px;display:inline\"> Adam - Adaptive Moment Estimation\n",
    "---\n",
    "* **Adam**: another optimization method that computes adaptive learning rates for each parameter. \n",
    "* Adam combines the advantages of Adagrad, RMSprop and Momentum: \n",
    "    * Use the **squared gradients to scale the learning rate** (like RMSprop)\n",
    "    * Use  **moving average of the gradient instead of the gradient itself** (like SGD with momentum)\n",
    "<!-- * In addition to storing an exponentially decaying average of past **squared gradients** like Adadelta and RMSprop, Adam also keeps an exponentially decaying average of past **gradients** similar to momentum. -->\n",
    "* Whereas momentum can be seen as a ball running down a slope, Adam behaves like a heavy ball with friction, and thus prefers flat minima in the error surface."
   ]
  },
  {
   "cell_type": "markdown",
   "metadata": {
    "slideshow": {
     "slide_type": "subslide"
    }
   },
   "source": [
    "\n",
    "* We denote:\n",
    "    * $\\alpha$ - the learning rate.\n",
    "    * $m$ - moving average of gradients. Estimates the first moment (mean) of the gardients.\n",
    "    * $v$ - moving average of squared gradients. Estimates the second momemnt (variance) of the gradients.\n",
    "    * $\\beta_1$ - moving average parameter for $m$ (default: 0.9).\n",
    "    * $\\beta_2$ - moving average parameter for $v$ (default: 0.999)."
   ]
  },
  {
   "cell_type": "markdown",
   "metadata": {
    "slideshow": {
     "slide_type": "subslide"
    }
   },
   "source": [
    "* The Adam update rule: $$ \\mathbb{E}[g]_{k+1} = m_{k+1} = \\beta_1 m_k + (1-\\beta_1)\\nabla f(w^k) = \\beta_1 m_k + (1-\\beta_1)g_k $$  $$ \\mathbb{E}[g^2]_{k+1} = v_{k+1} = \\beta_2 v_k + (1-\\beta_2)(\\nabla f(w^k))^2 = \\beta_2 v_k + (1-\\beta_2)g^2_k $$ Then, we use an **unbiased** estimation: $$ \\hat{m}_{k+1} = \\frac{m_{k+1}}{1 -\\beta_1^{k+1}} $$ $$ \\hat{v}_{k+1} = \\frac{v_{k+1}}{1 -\\beta_2^{k+1}} $$ (the $\\beta$'s are taken with the power of the current iteration) $$ w^{k+1} = w^k -\\frac{\\alpha}{\\sqrt{\\hat{v}_{k+1}} +\\epsilon}\\hat{m}_{k+1} $$\n",
    "\n",
    "* $\\epsilon$, a \"smoothing\" term that prevents diviosn by zero, deafult's is $10^{-8}$, but can range from $10^{-4}$ to $10^{-8}$. Note that the default $\\epsilon = 1e-8$ might be sub-optimal for various tasks, and thus it is recommended to test other values $\\in [1e-3, 1e-12]$ as well.\n",
    "    *  <a href=\"https://arxiv.org/abs/2011.02150\">EAdam Optimizer: How ε Impact Adam</a> - Wei Yuan, Kai-Xin Gao.\n",
    "    *  <a href=\"http://zna.do/epsilon\">ε, a A Nuisance No More</a> - Zack Nado."
   ]
  },
  {
   "cell_type": "markdown",
   "metadata": {
    "slideshow": {
     "slide_type": "subslide"
    }
   },
   "source": [
    "### <img src=\"https://img.icons8.com/cotton/64/000000/olympic-torch.png\" style=\"height:50px;display:inline\"> Adam in PyTorch\n",
    "---\n",
    "* `torch.optim.Adam(model.parameters(), lr=learning_rate, betas=(0.9, 0.999))`\n",
    "    \n",
    "If you want to use weight decay (i.e., $L_2$ regularization on the weights), use `AdamW`, which adds a fix to the update rule to account for the weight regularization.\n",
    "\n",
    "* <a href=\"https://pytorch.org/docs/stable/generated/torch.optim.AdamW.html#torch.optim.AdamW\">`torch.optim.AdamW(model.parameters(), lr=learning_rate, betas=(0.9, 0.999), weight_decay=0.01)`</a>"
   ]
  },
  {
   "cell_type": "markdown",
   "metadata": {
    "slideshow": {
     "slide_type": "slide"
    }
   },
   "source": [
    "## <img src=\"https://img.icons8.com/doodle/96/000000/scales--v1.png\" style=\"height:50px;display:inline\"> Comparison Between Methods\n",
    "---\n",
    "<center><img src=\"./assets/loss_conturs_all_grad_w_adam.gif\" style=\"height:500px\"></center>\n",
    "\n",
    "* Contours of a loss surface and time evolution of different optimization algorithms. \n",
    "* Notice the \"overshooting\" behavior of **momentum-based methods**, which makes the optimization look like a ball rolling down the hill.\n",
    "\n",
    "* <a href=\"https://github.com/ilguyi/optimizers.numpy\">Image Source</a>"
   ]
  },
  {
   "cell_type": "markdown",
   "metadata": {
    "slideshow": {
     "slide_type": "subslide"
    }
   },
   "source": [
    "<center><img src=\"./assets/saddle_point_all_grad.gif\" style=\"height:250px\"></center>\n",
    "\n",
    "* A visualization of a **saddle point** in the optimization landscape, where the curvature along different dimension has different signs (one dimension curves up and another down). \n",
    "* Notice that SGD has a very hard time breaking symmetry and gets *stuck* on the top. \n",
    "* Conversely, algorithms such as RMSprop will see very low gradients in the saddle direction. Due to the denominator term in the RMSprop update, this will increase the effective learning rate along this direction, helping RMSProp proceed.\n",
    "\n",
    "* Image credit: <a href=\"https://twitter.com/alecrad\">Alec Radford</a>"
   ]
  },
  {
   "cell_type": "markdown",
   "metadata": {},
   "source": [
    "## <img src=\"https://img.icons8.com/bubbles/50/new.png\" style=\"height:50px;display:inline\"> Recent Advances in Optimizers\n",
    "---\n",
    "* Adam, \"the king of optimizers\", has been the go-to optimizer for some time now, and while there were several attempts to dethrone it, there was not a major breakthrough in the optimizers literature to replace it, and Adam is still widely used in all major deep learning domains.\n",
    "* However, several notable recent works have proposed alternatives that show great promise as candidates to replace Adam, which we cover below."
   ]
  },
  {
   "cell_type": "markdown",
   "metadata": {},
   "source": [
    "## <img src=\"https://img.icons8.com/cute-clipart/64/pray.png\" style=\"height:50px;display:inline\"> AdaBelief\n",
    "---\n",
    "* Introduced in <a href=\"https://arxiv.org/abs/2010.07468\">AdaBelief Optimizer: Adapting Stepsizes by the Belief in Observed Gradients</a> - Zhuang et al., NeurIPS 2020.\n",
    "* **Motivation**: achieve three goals -- fast convergence as in adaptive methods, good generalization as in SGD, and training stability.\n",
    "* **Main idea**: adapt the step-size according to the \"belief\" in the current gradient direction -- the moving average (EMA) of the noisy gradient serves as the prediction of the gradient at the next time step; take a small step if the prediction and current gradient have a large difference and otherwise take a large step.\n",
    "  \n",
    "<center><img src=\"./assets/adabelief_algo.png\" style=\"height:250px\"></center>\n",
    "\n",
    "<center><img src=\"./assets/adabelief2.gif\" style=\"height:300px\"></center>\n",
    "\n",
    "\n",
    "* <a href=\"https://juntang-zhuang.github.io/adabelief/\">Website</a>, <a href=\"https://github.com/juntang-zhuang/Adabelief-Optimizer\">PyTorch Code</a>"
   ]
  },
  {
   "cell_type": "markdown",
   "metadata": {},
   "source": [
    "## <img src=\"https://img.icons8.com/external-bzzricon-smooth-bzzricon-studio/64/external-mad-puppy-bzzricon-smooth-bzzricon-smooth-bzzricon-studio.png\" style=\"height:50px;display:inline\"> MADGRAD\n",
    "---\n",
    "* Introduced in <a href=\"https://arxiv.org/abs/2101.11075\">Adaptivity without Compromise: A Momentumized, Adaptive, Dual Averaged Gradient Method for Stochastic Optimization</a> - Aaron Defazio and Samy Jelassi (META AI Research), JMLR 2022.\n",
    "* **Motivation**: combine adaptivity with strong generalization performance.\n",
    "* **Main idea**: based the dual averaging formulation of AdaGrad, combined with momentum and adaptivity to achieve the generalization performance of SGD and the fast convergence of Adam. \n",
    "  \n",
    "<center><img src=\"./assets/madgrad_algo.PNG\" style=\"height:250px\"></center>\n",
    "\n",
    "* <a href=\"https://madgrad.readthedocs.io/en/latest/\">Website</a>, <a href=\"https://github.com/facebookresearch/madgrad\">PyTorch Code</a>.\n",
    "    * Notes: GPU-only. Typically, the same learning rate schedule that is used for SGD or Adam may be used. MADGRAD requires less weight decay than other methods, often as little as zero. Momentum values used for SGD or Adam’s $\\beta_1$ should work here."
   ]
  },
  {
   "cell_type": "markdown",
   "metadata": {},
   "source": [
    "## <img src=\"https://img.icons8.com/external-goofy-color-kerismaker/96/external-Seesaw-momentum-science-goofy-color-kerismaker.png\" style=\"height:50px;display:inline\"> Adan\n",
    "---\n",
    "* Introduced in <a href=\"https://arxiv.org/abs/2208.06677\">Adan: Adaptive Nesterov Momentum Algorithm for Faster Optimizing Deep Models</a> - Xie et al., 2022.\n",
    "* **Motivation**: improve the deep learning model training speed by utilizing an accurate and stable estimation of the gradient moments.\n",
    "* **Main idea**: a new Nesterov momentum estimation (NME) method, which avoids the extra overhead of computing gradient at the extrapolation point and used to estimate the gradient's first-order and second-order moments in adaptive gradient algorithms for convergence acceleration.\n",
    "  \n",
    "<center><img src=\"./assets/adan_algo.PNG\" style=\"height:300px\"></center>\n",
    "\n",
    "<center><img src=\"./assets/adan_table.PNG\" style=\"height:300px\"></center>\n",
    "\n",
    "* <a href=\"https://github.com/sail-sg/Adan\">PyTorch Code</a>.\n",
    "    * Notes: Adan has a slightly higher GPU memory cost than Adam/AdamW on a single node."
   ]
  },
  {
   "cell_type": "markdown",
   "metadata": {},
   "source": [
    "## <img src=\"https://img.icons8.com/clouds/100/overtime.png\" style=\"height:50px;display:inline\"> Schedule-Free Optimization\n",
    "---\n",
    "* Introduced in <a href=\"https://arxiv.org/abs/2405.15682\">The Road Less Scheduled</a> - Defazio et al., 2024.\n",
    "* Presents two new optimizers: **Schedule-free SGD** and **Schedule-free Adam**, that do not require learning rate scheduling (but can optionally be combined with one).\n",
    "* **Motivation**: learning rate schedules that depend on a stopping-step $T$ greatly outperform schedulers that do not require specification of $T$.\n",
    "* **Main idea**: eliminating the need for $T$ by unifiying scheduling and iterate averaging with no additional hyper-parameters.\n",
    "  \n",
    "<center><img src=\"./assets/schedule_free_adam_algo.PNG\" style=\"height:300px\"></center>\n",
    "\n",
    "<center><img src=\"./assets/schedule_free_graphs.PNG\" style=\"height:300px\"></center>\n",
    "\n",
    "* <a href=\"https://github.com/facebookresearch/schedule_free\">PyTorch Code</a>."
   ]
  },
  {
   "cell_type": "markdown",
   "metadata": {},
   "source": [
    "### <img src=\"https://img.icons8.com/cotton/64/000000/stop-sign.png\" style=\"height:50px;display:inline\"> Question time!\n",
    "---\n",
    "#### Exam question\n",
    "This question appeared in Spring 2024 moed B\n",
    "\n",
    "We have an infinitly differentiable function $f:\\mathbb{R}^d\\rightarrow\\mathbb{E}$ with a finite global minimum.\n",
    "\n",
    "We optimize $f$ via heavy ball momentum:\n",
    "$$\\begin{aligned} \n",
    "v(t) &= \\gamma v(t-1)+\\nabla f(w(t-1)))\\quad \\\\\n",
    "w(t) &= w(t-1)-\\eta v(t)\n",
    "\\end{aligned}$$\n",
    "where $v(0)=0$.\n",
    "\n",
    "We are told that near the stationary point, we have\n",
    "$$f(w)=\\frac{1}{2}w^THw$$\n",
    "for $H$ the Hessian matrix.\n",
    "\n",
    "1. Use the Hessian eigenvector decomposition $H=U\\Lambda U^T$ for diagonal eingenvalue matrix $\\Lambda$ with eigenvalues $\\lambda_i$ and eigenvector matrix $U$, to show that the update rule can be written as $$\\left [ \\begin{array}{l}\n",
    "        q_i(t)\\\\z_i(t)\\\\\\end{array}\\right ]=A_i \\left [ \\begin{array}{l}\n",
    "        q_i(t-1)\\\\z_i(t-1)\\\\\\end{array}\\right ]$$ where $q=U^Tv,\\quad z=U^T w$. What is $A_i$?\n",
    "        \n",
    "2. We decompose $$A_i=V_i\\Sigma_i V_i^{-1}$$ where $\\Sigma_i$ is a diagonal eigenvalue matrix with eigenvalues $\\sigma_{i,\\pm}$. Show that\n",
    "   $$\\sigma_{i,\\pm}=\\frac{1}{2}\\left (1-\\eta\\lambda_i+\\gamma\\pm \\sqrt{(1-\\eta\\lambda_i+\\gamma)^2-4\\gamma}\\right )$$\n",
    "3. Write the solution for section 1 $h_i(t)=[q_i(t),z_i(t)]^T\\in\\mathbb{R}^2$ in terms of $h_i(0),V_i,\\Sigma_i,V_i^{-1}$ and explain why the convergence rate is $$\\mathrm{rate}=\\max_i\\max_{\\pm}|\\sigma_{i,\\pm}|$$ and the requirement for convergence is $\\mathrm{rate}<1$.\n",
    "\n",
    "Hint for the next sections: $$f_{\\pm}(x)=|x\\pm\\sqrt{x^2-c^2}|$$ is monotonically increasing/decreasing when $|x|>|c|$ and constant if $|x|<|c|$.\n",
    "\n",
    "4. Calculate $|\\sigma_{i,\\pm}|$ for complex/imaginary eigenvalues. What should $\\gamma$ be such that $|\\sigma_{i,\\pm}|<1$?\n",
    "5. For the $\\gamma$ value in section 4, we increase $\\eta$ such that $\\mathrm{rate}\\rightarrow 1$. Let $\\lambda_{\\max}$ be the largest eigenvalue of $H$. show that $$\\mathrm{rate}=\\max_i\\max_{\\pm}|\\sigma_{i,\\pm}|=\\frac{1}{2}\\left |1-\\eta\\lambda_{\\max}+\\gamma- \\sqrt{(1-\\eta\\lambda_{\\max}+\\gamma)^2-4\\gamma}\\right |$$\n",
    "6. Under the conditions of section 5, show that convergence requires $$\\eta<\\frac{2(1+\\gamma)}{\\lambda_{\\max}}$$"
   ]
  },
  {
   "cell_type": "markdown",
   "metadata": {
    "tags": []
   },
   "source": [
    "### <img src=\"https://img.icons8.com/cotton/64/000000/checkmark.png\" style=\"height:50px;display:inline\"> Answer time!\n",
    "---\n",
    "<details>\n",
    "  <summary>Hint</summary>\n",
    "    \n",
    "1. Similar to the non-momentum setting.\n",
    "2. Find the characterisitc polynomial and solve the quadratic equation for its roots.\n",
    "3. Show that for some diagonal matrix $D$, $h(t)=Dh(0)$, the convergence rate depends on the eigenvalue closest to $1$ in absolute value.\n",
    "4. The complex eigenvalues are when the square root is negative. Consider $|\\sigma_{i,\\pm}|$ when this happens.\n",
    "5. Consider which of $|\\sigma_{i,+}|,|\\sigma_{i,-}|$ is larger.\n",
    "6. Note that the rate is monotonic, use the expression for we are given for $\\eta$.\n",
    "    \n",
    "</details>"
   ]
  },
  {
   "cell_type": "markdown",
   "metadata": {
    "tags": []
   },
   "source": [
    "#### Section 1\n",
    "<span style=\"color:gray\">\n",
    "Use the Hessian eigenvector decomposition $H=U\\Lambda U^T$ for diagonal eingenvalue matrix $\\Lambda$ with eigenvalues $\\lambda_i$ and eigenvector matrix $U$, to show that the update rule can be written as $$\\left [ \\begin{array}{l}\n",
    "        q_i(t)\\\\z_i(t)\\\\\\end{array}\\right ]=A_i \\left [ \\begin{array}{l}\n",
    "        q_i(t-1)\\\\z_i(t-1)\\\\\\end{array}\\right ]$$ where $q=U^Tv,\\quad z=U^T w$. What is $A_i$?\n",
    "</span>\n",
    "    "
   ]
  },
  {
   "cell_type": "markdown",
   "metadata": {},
   "source": [
    "<!-- We note that $U^TU=I$ -->\n",
    "We start with finding the update rule in the roatated weight space:\n",
    "\n",
    "$$v(t) = \\gamma v(t-1)+\\nabla f(w(t-1)))$$\n",
    "$$q=U^Tv,\\quad z=U^T w$$\n",
    "\n",
    "\n",
    "$$\\begin{aligned}\n",
    "q(t) &= U^T v(t) \\\\\n",
    "&= \\gamma U^Tv(t-1)+U^THw(t-1) \\\\\n",
    "&= \\gamma q(t-1)+U^TU\\Lambda Uw(t-1) \\\\ \n",
    "&=\\gamma q(t-1)+\\Lambda z(t-1) \\\\\\\\\n",
    "z(t) &= U^T w(t) \\\\\n",
    "&=U^Tw(t-1)-\\eta U^Tv(t)\\\\\n",
    "&=z(t-1)-\\eta q(t)\n",
    "\\end{aligned}$$\n",
    "\n",
    "<!-- Decomposing per $0\\leq i\\leq d$ we have  -->\n",
    "\n",
    "Since $\\Lambda$ is diagonal, we can decompose per $0\\leq i\\leq d$:\n",
    "$$\\begin{aligned} \n",
    "q_i(t) &= \\gamma q_i(t-1)+\\lambda_i z_i(t-1) \\\\\\\\\n",
    "z_i(t) &= z_i(t-1)-\\eta q_i(t) \\\\\n",
    "&= z_i(t-1)-\\eta (\\gamma q_i(t-1)+\\lambda_i z_i(t-1)) \\\\\n",
    "&= (1-\\eta\\lambda_i)z_i(t-1)-\\eta\\gamma q_i(t-1)\n",
    "\\end{aligned}$$\n",
    "\n",
    "Putting everything together we get \n",
    "$$\\left ( \\begin{array}{l}q_i(t)\\\\z_i(t)\\\\\\end{array}\\right )=\\left ( \\begin{array}{cc}\\gamma & \\lambda_i\\\\-\\eta\\gamma & 1-\\eta\\lambda_i\\\\\\end{array}\\right )\\left ( \\begin{array}{l}q_i(t-1)\\\\z_i(t-1)\\\\\\end{array}\\right )$$"
   ]
  },
  {
   "cell_type": "markdown",
   "metadata": {
    "tags": []
   },
   "source": [
    "#### Section 2\n",
    "<span style=\"color:gray\">\n",
    "We decompose $$A_i=V_i\\Sigma_i V_i^{-1}$$ where $\\Sigma_i$ is a diagonal eigenvalue matrix with eigenvalues $\\sigma_{i,\\pm}$. \n",
    "    \n",
    "Show that\n",
    "   $$\\sigma_{i,\\pm}=\\frac{1}{2}\\left (1-\\eta\\lambda_i+\\gamma\\pm \\sqrt{(1-\\eta\\lambda_i+\\gamma)^2-4\\gamma}\\right )$$\n",
    "</span>"
   ]
  },
  {
   "cell_type": "markdown",
   "metadata": {},
   "source": [
    "Looking at the characteristic polynomial, $$|A_i-\\sigma I|=0\\Rightarrow \\left | \\begin{array}{cc}\\gamma-\\sigma & \\lambda_i\\\\-\\eta\\gamma & 1-\\eta\\lambda_i-\\sigma\\\\\\end{array}\\right |=0$$\n",
    "$$(\\gamma-\\sigma)(1-\\eta\\lambda_i-\\sigma)-\\lambda_i(-\\eta\\gamma)=0$$\n",
    "$$\\Rightarrow \\sigma^2-(1-\\eta\\lambda_i+\\gamma)\\sigma+\\gamma=0$$\n",
    "Solving the quadratic equation gives us \n",
    "$$\\sigma_{i,\\pm}=\\frac{1}{2}\\left (1-\\eta\\lambda_i+\\gamma\\pm \\sqrt{(1-\\eta\\lambda_i+\\gamma)^2-4\\gamma}\\right )$$"
   ]
  },
  {
   "cell_type": "markdown",
   "metadata": {
    "tags": []
   },
   "source": [
    "#### Section 3\n",
    "<span style=\"color:gray\">\n",
    "Write the solution for section 1 $h_i(t)=[q_i(t),z_i(t)]^T\\in\\mathbb{R}^2$ in terms of $h_i(0),V_i,\\Sigma_i,V_i^{-1}$ and explain why the convergence rate is $$\\mathrm{rate}=\\max_i\\max_{\\pm}|\\sigma_{i,\\pm}|$$ and the requirement for convergence is $\\mathrm{rate}<1$.\n",
    "</span>"
   ]
  },
  {
   "cell_type": "markdown",
   "metadata": {},
   "source": [
    "Denote $$ h_i=[q_i,z_i]^T, h=(h_1^T,h_2^T,\\ldots,h_d^T)^T \\,.$$\n",
    "\n",
    "Similarly to section 1, we would like to rotate $h_i$ such that we multiply by a diagonal matrix.\n",
    "\n",
    "To do that, we take $$ p_i=V_i^{-1}h_i \\,.$$\n",
    "We can show that\n",
    "\n",
    "$$\\begin{aligned} \n",
    "h_i(t) &= A_i h_i(t-1) \\\\\n",
    "\\Rightarrow p_i(t) &= V_i^{-1}h_i(t) \\\\\n",
    "&= V_i^{-1}V_i\\Sigma_i V_i^{-1} h_i(t-1)\\\\\n",
    "&= \\Sigma_i p_i(t-1)\n",
    "\\end{aligned}$$"
   ]
  },
  {
   "cell_type": "markdown",
   "metadata": {},
   "source": [
    "Considering $p_{i,\\pm}$ the two elements of $p_i$, we therefore have\n",
    "$$\\begin{aligned} \n",
    "p_{i,\\pm}(t) &= \\sigma_{i,\\pm} p_{i,\\pm}(t-1) \\\\\n",
    "\\Rightarrow p_{i,\\pm}(t) &= \\sigma_{i,\\pm}^t p_{i,\\pm}(0) \\\\\n",
    "\\Rightarrow p_{i}(t) &= \\Sigma_i^t p_i(0)\n",
    "\\end{aligned}$$"
   ]
  },
  {
   "cell_type": "markdown",
   "metadata": {},
   "source": [
    "$$\\begin{aligned} \\Rightarrow  h_i(t) &= V_i p_i(t) \\\\\n",
    "&= V_i \\Sigma_i^t p_i(0) \\\\\n",
    "&= V_i\\Sigma_i^t V_i^{-1}h_i(0) \n",
    "\\end{aligned}$$\n",
    "\n",
    "To get a general expression for $h(t)$ we gather these expression in a block diagonal matrix\n",
    "\n",
    "$$ h(t)=\\left ( \\begin{array}{ccc}V_1\\Sigma_1^tV_1^{-1}&0&0  \\\\ 0 & \\ddots& 0\\\\0&0&V_d\\Sigma_d^tV_d^{-1}\\\\\\end{array}\\right )h(0)$$\n",
    "\n",
    "The convergence rate depends on the eigenvalue whose absolute value is closest to $1$, as the slowest eigenvalue to converge, so \n",
    "$$\\mathrm{rate}=\\max_i\\max_{\\pm}|\\sigma_{i,\\pm}|$$\n",
    "and convegence requires $\\mathrm{rate}<1$"
   ]
  },
  {
   "cell_type": "markdown",
   "metadata": {},
   "source": [
    "<!-- Marking $h_i=[q_i,z_i]^T, h=(h_1^T,h_2^T,\\ldots,h_d^T)^T$ and $p_i=V_i^{-1}h_i$, we can show that\n",
    "$$h_i(t)=A_i h_i(t-1)\\Rightarrow p_i(t)=V_i^{-1}h_i(t)=V_i^{-1}V_i\\Sigma_i V_i^{-1} h_i(t-1)=\\Sigma_i p_i(t-1)$$\n",
    "Considering $p_{i,\\pm}$ the two elements of $p_i$, we therefor have\n",
    "$$p_{i,\\pm}(t)=\\sigma_{i,\\pm} p_{i,\\pm}(t-1)\\Rightarrow p_{i,\\pm}(t)=\\sigma_{i,\\pm}^t p_{i,\\pm}(0)$$\n",
    "$$\\Rightarrow  h_i(t)=V_i\\Sigma_i^t V_i^{-1}h_i(0)\\Rightarrow h_i(t)=\\left ( \\begin{array}{ccc}V_1\\Sigma_1^tV_1^{-1}&0&0  \\\\ 0 & \\ddots& 0\\\\0&0&V_d\\Sigma_d^tV_d^{-1}\\\\\\end{array}\\right )h_i(0)$$\n",
    "\n",
    "The convergence rate depends on the eigenvalue whose absolute value is closest to $1$, as the slowest eigenvalue to converge, so \n",
    "$$\\mathrm{rate}=\\max_i\\max_{\\pm}|\\sigma_{i,\\pm}|$$\n",
    "and convegence requires $\\mathrm{rate}<1$ -->"
   ]
  },
  {
   "cell_type": "markdown",
   "metadata": {
    "tags": []
   },
   "source": [
    "#### Section 4\n",
    "<span style=\"color:gray\">\n",
    "Calculate $|\\sigma_{i,\\pm}|$ for complex/imaginary eigenvalues. What should $\\gamma$ be such that $|\\sigma_{i,\\pm}|<1$?\n",
    "\n",
    "Hint: $$f_{\\pm}(x)=|x\\pm\\sqrt{x^2-c^2}|$$ is monotonically increasing/decreasing when $|x|>|c|$ and constant if $|x|<|c|$.\n",
    "\n",
    "</span>"
   ]
  },
  {
   "cell_type": "markdown",
   "metadata": {},
   "source": [
    "Complex eigenvalues imply that the value under the square root is negative, $(1-\\eta\\lambda_i+\\gamma)^2<4\\gamma$.\n",
    "$$|\\sigma_{i,\\pm}|=\\frac{1}{2}\\left | 1-\\eta\\lambda_i+\\gamma\\pm \\sqrt{(1-\\eta\\lambda_i+\\gamma)^2-(2\\sqrt{\\gamma})^2)}\\right |$$\n",
    "From the hint, $f_{\\pm}=\\left |1-\\eta\\lambda_i+\\gamma\\pm \\sqrt{(1-\\eta\\lambda_i+\\gamma)^2-(2\\sqrt{\\gamma})^2)}\\right |$ is constant in our range and it is easy to see that this constant is $|c|$ in general, or in our case\n",
    "$$|\\sigma_{i,\\pm}|=\\frac{1}{2}|2\\sqrt{\\gamma} |=\\sqrt{\\gamma}$$\n",
    "Notably, this does not depend on the learning rate $\\eta$ or on the eigenvalues of the Hessian $\\lambda_i$.\n",
    "Convergence requires $$\\sqrt{\\gamma}<1\\Rightarrow \\gamma<1$$"
   ]
  },
  {
   "cell_type": "markdown",
   "metadata": {},
   "source": [
    "#### Section 5\n",
    "<span style=\"color:gray\">\n",
    "For the $\\gamma$ value in section 4, we increase $\\eta$ such that $\\mathrm{rate}\\rightarrow 1$. Let $\\lambda_{\\max}$ be the largest eigenvalue of $H$. show that $$\\mathrm{rate}=\\max_i\\max_{\\pm}|\\sigma_{i,\\pm}|=\\frac{1}{2}\\left |1-\\eta\\lambda_{\\max}+\\gamma- \\sqrt{(1-\\eta\\lambda_{\\max}+\\gamma)^2-4\\gamma}\\right |$$\n",
    "</span>"
   ]
  },
  {
   "cell_type": "markdown",
   "metadata": {},
   "source": [
    "For large learning rate $\\eta$, $x=1-\\eta\\lambda_i+\\gamma$ is increasingly more negative, meaning \n",
    "$$\\sigma_{i,+}=\\frac{1}{2}\\left (1-\\eta\\lambda_i+\\gamma+\\sqrt{(1-\\eta\\lambda_i+\\gamma)^2-4\\gamma}\\right )$$ decreases while \n",
    "$$\\sigma_{i,-}=\\frac{1}{2}\\left (1-\\eta\\lambda_i+\\gamma- \\sqrt{(1-\\eta\\lambda_i+\\gamma)^2-4\\gamma}\\right )$$ increases.\n",
    "Since they both start from the positive value $\\sqrt{\\gamma}$, this means $|\\sigma_{i,-}|$ will be the larget of the eigenvalues, and since it is monotonically decreasing in $x$, we can choose $\\lambda_i=\\lambda_{\\max}$ to get the largest $|\\sigma_{i,-}|$.\n",
    "$$|\\sigma_{\\max,-}|=\\frac{1}{2}\\left |1-\\eta\\lambda_{\\max}+\\gamma- \\sqrt{(1-\\eta\\lambda_{\\max}+\\gamma)^2-4\\gamma}\\right |<1$$"
   ]
  },
  {
   "cell_type": "markdown",
   "metadata": {},
   "source": [
    "#### Section 6\n",
    "<span style=\"color:gray\">\n",
    "Under the conditions of section 5, show that convergence requires $$\\eta<\\frac{2(1+\\gamma)}{\\lambda_{\\max}}$$\n",
    "</span>"
   ]
  },
  {
   "cell_type": "markdown",
   "metadata": {},
   "source": [
    "$x-\\sqrt{x^2-c^2}$ is monotonic, so we can just set $\\eta<\\frac{2(1+\\gamma)}{\\lambda_{\\max}}$ and check that the rate is less than $1$:\n",
    "$$\\mathrm{rate}<\\frac{1}{2}\\left |1-2(1+\\gamma)+\\gamma- \\sqrt{(1-2(1+\\gamma)+\\gamma)^2-4\\gamma}\\right |=\\frac{1}{2}\\left |-(1+\\gamma)- \\sqrt{(1+\\gamma)^2-4\\gamma}\\right |=\\frac{1}{2}\\left |-(1+\\gamma)- \\sqrt{((1-\\gamma))^2}\\right |$$\n",
    "$$\\mathrm{rate}<=\\frac{1}{2}\\left |-(1+\\gamma)- (1-\\gamma)\\right |=1$$\n",
    "</details>"
   ]
  },
  {
   "cell_type": "markdown",
   "metadata": {},
   "source": [
    "<!-- ### <img src=\"https://img.icons8.com/cotton/64/000000/checkmark.png\" style=\"height:50px;display:inline\"> Answer time!\n",
    "---\n",
    "<details>\n",
    "  <summary>Hint</summary>\n",
    "    \n",
    "1. Similar to the non-momentum setting.\n",
    "2. Find the characterisitc polynomial and solve the quadratic equation for its roots.\n",
    "3. Show that for some diagonal matrix $D$, $h(t)=Dh(0)$, the convergence rate depends on the eigenvalue closest to $1$ in absolute value.\n",
    "4. The complex eigenvalues are when the square root is negative. Consider $|\\sigma_{i,\\pm}|$ when this happens.\n",
    "5. Consider which of $|\\sigma_{i,+}|,|\\sigma_{i,-}|$ is larger.\n",
    "6. Note that the rate is monotonic, use the expression for we are given for $\\eta$.\n",
    "    \n",
    "</details>\n",
    "\n",
    "<details>\n",
    "  <summary>Solution</summary>\n",
    "    \n",
    "#### Section 1\n",
    "We note that $U^TU=I$\n",
    "$$q(t)=U^T v(t)=\\gamma U^Tv(t-1)+U^THw(t-1)=\\gamma q(t-1)+U^TU\\Lambda Uw(t-1)=\\gamma q(t-1)+\\Lambda z(t-1)$$\n",
    "Decomposing per $0\\leq i\\leq d$ we have \n",
    "$$q_i(t)=\\gamma q_i(t-1)+\\lambda_i z_i(t-1)$$\n",
    "\n",
    "$$z(t)=U^T w(t)=U^Tw(t-1)-\\eta U^Tv(t)=z(t-1)-\\eta q(t)$$\n",
    "Decomposing per $0\\leq i\\leq d$ we have \n",
    "$$z(t)=z_i(t-1)-\\eta q_i(t)=z_i(t-1)-\\eta (\\gamma q_i(t-1)+\\lambda_i z_i(t-1))=(1-\\eta\\lambda_i)z_i(t-1)-\\eta\\gamma q_i(t-1)$$\n",
    "\n",
    "Putting everything together we get \n",
    "$$\\left ( \\begin{array}{l}q_i(t)\\\\z_i(t)\\\\\\end{array}\\right )=\\left ( \\begin{array}{cc}\\gamma & \\lambda_i\\\\-\\eta\\gamma & 1-\\eta\\lambda_i\\\\\\end{array}\\right )\\left ( \\begin{array}{l}q_i(t-1)\\\\z_i(t-1)\\\\\\end{array}\\right )$$\n",
    "\n",
    "#### Section 2\n",
    "Looking at the characteristic polynomial, $$|A_i-\\sigma I|=0\\Rightarrow \\left | \\begin{array}{cc}\\gamma-\\sigma & \\lambda_i\\\\-\\eta\\gamma & 1-\\eta\\lambda_i-\\sigma\\\\\\end{array}\\right |=0$$\n",
    "$$(\\gamma-\\sigma)(1-\\eta\\lambda_i-\\sigma)-\\lambda_i(-\\eta\\gamma)=0$$\n",
    "$$\\Rightarrow \\sigma^2-(1-\\eta\\lambda_i+\\gamma)\\sigma+\\gamma=0$$\n",
    "Solving the quadratic equation gives us \n",
    "$$\\sigma_{i,\\pm}=\\frac{1}{2}\\left (1-\\eta\\lambda_i+\\gamma\\pm \\sqrt{(1-\\eta\\lambda_i+\\gamma)^2-4\\gamma}\\right )$$\n",
    "\n",
    "#### Section 3\n",
    "Marking $h_i=[q_i,z_i]^T, h=(h_1^T,h_2^T,\\ldots,h_d^T)^T$ and $p_i=V_i^{-1}h_i$, we can show that\n",
    "$$h_i(t)=A_i h_i(t-1)\\Rightarrow p_i(t)=V_i^{-1}h_i(t)=V_i^{-1}V_i\\Sigma_i V_i^{-1} h_i(t-1)=\\Sigma_i p_i(t-1)$$\n",
    "Considering $p_{i,\\pm}$ the two elements of $p_i$, we therefor have\n",
    "$$p_{i,\\pm}(t)=\\sigma_{i,\\pm} p_{i,\\pm}(t-1)\\Rightarrow p_{i,\\pm}(t)=\\sigma_{i,\\pm}^t p_{i,\\pm}(0)$$\n",
    "$$\\Rightarrow  h_i(t)=V_i\\Sigma_i^t V_i^{-1}h_i(0)\\Rightarrow h_i(t)=\\left ( \\begin{array}{ccc}V_1\\Sigma_1^tV_1^{-1}&0&0  \\\\ 0 & \\ddots& 0\\\\0&0&V_d\\Sigma_d^tV_d^{-1}\\\\\\end{array}\\right )h_i(0)$$\n",
    "\n",
    "The convergence rate depends on the eigenvalue whose absolute value is closest to $1$, as the slowest eigenvalue to converge, so \n",
    "$$\\mathrm{rate}=\\max_i\\max_{\\pm}|\\sigma_{i,\\pm}|$$\n",
    "and convegence requires $\\mathrm{rate}<1$\n",
    "\n",
    "#### Section 4\n",
    "Complex eigenvalues imply that the value under the square root is negative, $(1-\\eta\\lambda_i+\\gamma)^2<4\\gamma$.\n",
    "$$|\\sigma_{i,\\pm}|=\\frac{1}{2}\\left | 1-\\eta\\lambda_i+\\gamma\\pm \\sqrt{(1-\\eta\\lambda_i+\\gamma)^2-(2\\sqrt{\\gamma})^2)}\\right |$$\n",
    "From the hint, $f_{\\pm}=\\left |1-\\eta\\lambda_i+\\gamma\\pm \\sqrt{(1-\\eta\\lambda_i+\\gamma)^2-(2\\sqrt{\\gamma})^2)}\\right |$ is constant in our range and it is easy to see that this constant is $|c|$ in general, or in our case\n",
    "$$|\\sigma_{i,\\pm}|=\\frac{1}{2}|2\\sqrt{\\gamma} |=\\sqrt{\\gamma}$$\n",
    "Notably, this does not depend on the learning rate $\\eta$ or on the eigenvalues of the Hessian $\\lambda_i$.\n",
    "Convergence requires $$\\sqrt{\\gamma}<1\\Rightarrow \\gamma<1$$\n",
    "\n",
    "#### Section 5\n",
    "For large learning rate $\\eta$, $x=1-\\eta\\lambda_i+\\gamma$ is increasingly more negative, meaning \n",
    "$$\\sigma_{i,+}=\\frac{1}{2}\\left (1-\\eta\\lambda_i+\\gamma+\\sqrt{(1-\\eta\\lambda_i+\\gamma)^2-4\\gamma}\\right )$$ decreases while \n",
    "$$\\sigma_{i,-}=\\frac{1}{2}\\left (1-\\eta\\lambda_i+\\gamma- \\sqrt{(1-\\eta\\lambda_i+\\gamma)^2-4\\gamma}\\right )$$ increases.\n",
    "Since they both start from the positive value $\\sqrt{\\gamma}$, this means $|\\sigma_{i,-}|$ will be the larget of the eigenvalues, and since it is monotonically decreasing in $x$, we can choose $\\lambda_i=\\lambda_{\\max}$ to get the largest $|\\sigma_{i,-}|$.\n",
    "$$|\\sigma_{\\max,-}|=\\frac{1}{2}\\left |1-\\eta\\lambda_{\\max}+\\gamma- \\sqrt{(1-\\eta\\lambda_{\\max}+\\gamma)^2-4\\gamma}\\right |<1$$\n",
    "\n",
    "#### Section 6\n",
    "$x-\\sqrt{x^2-c^2}$ is monotonic, so we can just set $\\eta<\\frac{2(1+\\gamma)}{\\lambda_{\\max}}$ and check that the rate is less than $1$:\n",
    "$$\\mathrm{rate}<\\frac{1}{2}\\left |1-2(1+\\gamma)+\\gamma- \\sqrt{(1-2(1+\\gamma)+\\gamma)^2-4\\gamma}\\right |=\\frac{1}{2}\\left |-(1+\\gamma)- \\sqrt{(1+\\gamma)^2-4\\gamma}\\right |=\\frac{1}{2}\\left |-(1+\\gamma)- \\sqrt{((1-\\gamma))^2}\\right |$$\n",
    "$$\\mathrm{rate}<=\\frac{1}{2}\\left |-(1+\\gamma)- (1-\\gamma)\\right |=1$$\n",
    "</details> -->"
   ]
  },
  {
   "cell_type": "markdown",
   "metadata": {
    "jp-MarkdownHeadingCollapsed": true,
    "slideshow": {
     "slide_type": "subslide"
    }
   },
   "source": [
    "### <img src=\"https://img.icons8.com/bubbles/50/000000/video-playlist.png\" style=\"height:50px;display:inline\"> Recommended Videos\n",
    "---\n",
    "#### <img src=\"https://img.icons8.com/cute-clipart/64/000000/warning-shield.png\" style=\"height:30px;display:inline\"> Warning!\n",
    "* These videos do not replace the lectures and tutorials.\n",
    "* Please use these to get a better understanding of the material, and not as an alternative to the written material.\n",
    "\n",
    "#### Video By Subject\n",
    "\n",
    "* Gradient Descent - <a href=\"https://www.youtube.com/watch?v=sDv4f4s2SB8\">Gradient Descent, Step-by-Step</a>\n",
    "    * <a href=\"https://www.youtube.com/watch?v=jc2IthslyzM\">Mathematics of Gradient Descent - Intelligence and Learning</a>\n",
    "* Stochastic Gradient Descent - <a href=\"https://www.youtube.com/watch?v=vMh0zPT0tLI\">Stochastic Gradient Descent, Clearly Explained</a>\n",
    "* Momentum - <a href=\"https://www.youtube.com/watch?v=k8fTYJPd3_I\">Gradient Descent With Momentum (C2W2L06)</a>\n",
    "* RMSProp - <a href=\"https://www.youtube.com/watch?v=_e-LFe_igno\">RMSProp (C2W2L07)</a>\n",
    "* Adam - <a href=\"https://www.youtube.com/watch?v=JXQT_vxqwIs\">Adam Optimization Algorithm (C2W2L08)</a>\n",
    "* Learning Rate Decay - <a href=\"https://www.youtube.com/watch?v=QzulmoOg2JE\">Learning Rate Decay (C2W2L09)</a>\n",
    "* Momentum, Adagrad, RMSProp, Adam - <a href=\"https://www.youtube.com/watch?v=gmwxUy7NYpA\">UC Berkeley, STAT 157 - Momentum, Adagrad, RMSProp, Adam</a>\n",
    "* AdaBelief - <a href=\"https://www.youtube.com/watch?v=oGH7dmwvuaY\">AdaBelief Optimizer: Theory and Practical Guidelines</a>"
   ]
  },
  {
   "cell_type": "markdown",
   "metadata": {
    "slideshow": {
     "slide_type": "skip"
    }
   },
   "source": [
    "## <img src=\"https://img.icons8.com/dusk/64/000000/prize.png\" style=\"height:50px;display:inline\"> Credits\n",
    "---\n",
    "* Icons made by <a href=\"https://www.flaticon.com/authors/becris\" title=\"Becris\">Becris</a> from <a href=\"https://www.flaticon.com/\" title=\"Flaticon\">www.flaticon.com</a>\n",
    "* Icons from <a href=\"https://icons8.com/\">Icons8.com</a> - https://icons8.com\n",
    "* Datasets from <a href=\"https://www.kaggle.com/\">Kaggle</a> - https://www.kaggle.com/\n",
    "* Examples and code snippets were taken from <a href=\"http://shop.oreilly.com/product/0636920052289.do\">\"Hands-On Machine Learning with Scikit-Learn and TensorFlow\"</a>\n",
    "* <a href=\"https://cs231n.github.io/neural-networks-3/\">CS231n: Convolutional Neural Networks for Visual Recognition</a>\n",
    "* <a href=\"https://www.deeplearningwizard.com/deep_learning/boosting_models_pytorch/lr_scheduling/\">Deep Learning Wizard -Learning Rate Scheduling</a>\n",
    "* <a href=\"https://dominikschmidt.xyz/nesterov-momentum\">Understanding Nesterov Momentum (NAG)</a>\n",
    "* <a href=\"https://ruder.io/optimizing-gradient-descent/\">Sebastian Ruder - An overview of gradient descent optimization algorithms</a>"
   ]
  }
 ],
 "metadata": {
  "kernelspec": {
   "display_name": "Python 3 (ipykernel)",
   "language": "python",
   "name": "python3"
  },
  "language_info": {
   "codemirror_mode": {
    "name": "ipython",
    "version": 3
   },
   "file_extension": ".py",
   "mimetype": "text/x-python",
   "name": "python",
   "nbconvert_exporter": "python",
   "pygments_lexer": "ipython3",
   "version": "3.9.21"
  }
 },
 "nbformat": 4,
 "nbformat_minor": 4
}
